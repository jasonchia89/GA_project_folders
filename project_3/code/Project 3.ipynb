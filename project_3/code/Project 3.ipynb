{
 "cells": [
  {
   "cell_type": "markdown",
   "metadata": {},
   "source": [
    "<img src=\"http://imgur.com/1ZcRyrc.png\" style=\"float: left; margin: 20px; height: 55px\">\n",
    "\n",
    "# Project 3 - Enhancing Efficiency in Service Transformation through Differentiation of Customers' Reddit Posts (Web APIs and Classification)\n",
    "_Author: Jason Chia (JC)_\n",
    "\n",
    "---\n",
    "## Problem Statement and Executive Summary\n",
    "---\n",
    "With the advent of the digital age, people from various industries (such as the service industry), feel empowered to express their opinion and relate their experiences at work online on platforms like [Reddit](https://www.reddit.com/). It is therefore criticial for organizations that supply the service industry with service staff as well as trade unions such as the [National Trades Union Congress (NTUC)](https://www.ntuc.org.sg/wps/portal/up2/home/industrialrelations/unionsandu) to be aware of these online staff feedback so that they can take actions to address staff's concerns/dissatisfaction (which would otherwise not be expressed in the workplace directly to the management) and in turn improve service standards, thereby remaining competitive and maximizing customer satisfaction in the long run.\n",
    "\n",
    "However, with staff becoming more vocal online (and uploading lengthy posts) and the real possibility of similarities (such as whether staff treatment is just or not) in online posts between similar but different types of service staff (such as front desk staff and servers in dining establishments), it is onerous and time-consuming for the different organizations and agencies to read each post thoroughly in order to filter out posts relevant to them. \n",
    "\n",
    "This is where the solution I am about to present comes in handy! I have developed a model to effectively predict the category of a given post based on its content so that the different organizations can proceed directly to address posts meant for them, thereby eliminating the need to filter out relevant posts beforehand and hence, maximizing business efficiency!\n",
    "\n",
    "For this project, I have web-scraped 2 similar but different subreddits pertaining to the service industry ([```TalesFromYourServer```](https://www.reddit.com/r/TalesFromYourServer) and [```TalesFromFrontDesk```](https://www.reddit.com/r/TalesFromTheFrontDesk) to form a dataset, from which the solution is demonstrated. Two machine learning classification models - Logistic Regression and Naive Bayes classifier were evaluated with classification metrics such as accuracy, ROC AUC etc. on the dataset to determine which performs best. The best model was then used to predict the category of a given post (whether it belongs to the ```TalesFromYourServer``` or ```TalesFromFrontDesk``` subreddits) and it demonstrated an astounding classfication accuracy of 96%!!\n",
    "\n",
    "This proposal presents a foundational predictive model to be built upon (as more relevant data is collected to train it) and will add value to organizations such as recruitment firms that hire servers such as waitresses, busboys, bartenders and those that hire front desk staff, as well as trade unions and organizations like NTUC, by pre-filtering online staff feedback for them to address and/or take action(s) on. This can facilitate near-real-time service transformation that will in turn boost customers' experiences in the long run!\n",
    "\n",
    "The specifics of this proposal such as data cleaning, processing, exploratory data analysis, modelling etc. will be unveiled in the following sections of the notebook. \n",
    "\n",
    "---\n",
    "\n"
   ]
  },
  {
   "cell_type": "markdown",
   "metadata": {},
   "source": [
    "# Contents\n",
    "---\n",
    "\n",
    "- [Data Collection and Cleaning](#Data-Collection-and-Cleaning)\n",
    "- [Feature Engineering](#Feature-Engineering)\n",
    "- [Feature and Target Definitions and Preprocessing](#Feature-and-Target-Definitions-and-Preprocessing)\n",
    "- [Exploratory Data Analysis of Preprocessed Texts](#Exploratory-Data-Analysis-of-Preprocessed-Texts)\n",
    "- [Modelling and Hyperparameter Tuning](#Modelling-and-Hyperparameter-Tuning)\n",
    "- [Interpretation of Results](#Interpretation-of-Results)\n",
    "- [Model Evaluation and Limitations](#Model-Evaluation-and-Limitations)\n",
    "- [Conclusion and Business Recommendations](#Conclusion-and-Business-Recommendations)\n",
    "- [Sources](#Sources)"
   ]
  },
  {
   "cell_type": "markdown",
   "metadata": {},
   "source": [
    "# Data Collection and Cleaning \n",
    "---\n",
    "[Click here to go back to Contents](#Contents)\n",
    "### Web-scraping using Reddit's API\n",
    "- But first and foremost - importing the required libraries...\n",
    "- For wordcloud, kindly run the following lines of code in a Terminal (for Mac users) or command prompt window (for Windows Users - need to format code accordingly) to download and install wordcloud. More information on how to download and use it can be found [here](https://www.datacamp.com/community/tutorials/wordcloud-python)<br>\n",
    "<img src=\"../images/wordcloud_install_instructions.png\"/><br>\n",
    "- The following additional imports seem to be relevant, if not required, to run the wordcloud smoothly. Kindly import these first if you would like to uncomment the wordcloud-generation codes further down below to try generating wordclouds yourself!<br>\n",
    "<img src=\"../images/imports_for_wordcloud.png\"/>\n"
   ]
  },
  {
   "cell_type": "code",
   "execution_count": 1,
   "metadata": {},
   "outputs": [
    {
     "name": "stderr",
     "output_type": "stream",
     "text": [
      "/Users/jasonchia/opt/anaconda3/lib/python3.7/site-packages/sklearn/utils/deprecation.py:144: FutureWarning: The sklearn.feature_extraction.stop_words module is  deprecated in version 0.22 and will be removed in version 0.24. The corresponding classes / functions should instead be imported from sklearn.feature_extraction.text. Anything that cannot be imported from sklearn.feature_extraction.text is now part of the private API.\n",
      "  warnings.warn(message, FutureWarning)\n"
     ]
    }
   ],
   "source": [
    "import requests\n",
    "import time\n",
    "import random\n",
    "#from os import path   #uncomment these if you have downloaded and installed wordcloud based on the instructions above\n",
    "#from PIL import Image\n",
    "#from wordcloud import WordCloud, STOPWORDS, ImageColorGenerator\n",
    "from nltk.stem import WordNetLemmatizer\n",
    "import re\n",
    "import numpy as np\n",
    "import pandas as pd\n",
    "import matplotlib.pyplot as plt\n",
    "from sklearn.pipeline import Pipeline\n",
    "from sklearn.model_selection import train_test_split, GridSearchCV\n",
    "from sklearn.linear_model import LogisticRegression\n",
    "from sklearn.naive_bayes import MultinomialNB\n",
    "from sklearn.feature_extraction.text import CountVectorizer, TfidfVectorizer\n",
    "from sklearn.feature_extraction import stop_words\n",
    "from sklearn.metrics import confusion_matrix, classification_report, roc_auc_score\n",
    "plt.style.use('fivethirtyeight')\n",
    "\n",
    "%matplotlib inline\n",
    "%config InlineBackend.figure_format = 'retina'"
   ]
  },
  {
   "cell_type": "code",
   "execution_count": 2,
   "metadata": {},
   "outputs": [],
   "source": [
    "#url1 = 'https://www.reddit.com/r/TalesFromYourServer.json' #url for TalesFromYourServer subreddit"
   ]
  },
  {
   "cell_type": "code",
   "execution_count": 3,
   "metadata": {},
   "outputs": [],
   "source": [
    "#url2 = 'https://www.reddit.com/r/TalesFromTheFrontDesk.json' #url for TalesFromTheFrontDesk subreddit"
   ]
  },
  {
   "cell_type": "code",
   "execution_count": 4,
   "metadata": {
    "scrolled": true
   },
   "outputs": [],
   "source": [
    "#posts1 = []   #commenting these out so that we will only use a fixed set of already-scraped data. Reddit posts are fluid and people are constantly amending, deleting or uploading new posts on a daily basis..thus it is important to control for this. It is like detting a random seed.\n",
    "#after = None     #scraping TalesFromYourServer subreddit and saving to csv and updating the csv ~25 posts at a time for 1000 posts, if available...\n",
    "\n",
    "#for a in range(40):\n",
    " #   if after == None:\n",
    "  #      current_url = url1\n",
    "   # else:\n",
    "    #    current_url = url1 + '?after=' + after\n",
    "   # print(current_url)\n",
    "   # res = requests.get(current_url, headers={'User-agent': 'Pony Inc 3.0'})\n",
    "    \n",
    "   # if res.status_code != 200:\n",
    "    #    print('Status error', res.status_code)\n",
    "     #   break\n",
    "    \n",
    "   # current_dict = res.json()\n",
    "   # current_posts = [p['data'] for p in current_dict['data']['children']]\n",
    "   # posts1.extend(current_posts)\n",
    "   # after = current_dict['data']['after']\n",
    "   # pd.DataFrame(posts1).to_csv('../datasets/server.csv', index = False) #saving csv and overwriting each csv after every loop\n",
    "    # generate a random sleep duration to look more 'natural'\n",
    "   # sleep_duration = random.randint(1,2)\n",
    "   # print(sleep_duration)\n",
    "   # time.sleep(sleep_duration)"
   ]
  },
  {
   "cell_type": "code",
   "execution_count": 5,
   "metadata": {
    "scrolled": true
   },
   "outputs": [],
   "source": [
    "#posts2 = []    #commenting these out so that we will only use a fixed set of already-scraped data. Reddit posts are fluid and people are constantly amending, deleting or uploading new posts on a daily basis..thus it is important to control for this. It is like detting a random seed.\n",
    "#after = None     #scraping TalesFromTheFrontDesk subreddit and saving to csv and updating the csv ~25 posts at a time for 1000 posts, if available...\n",
    "\n",
    "#for a in range(40):\n",
    " #   if after == None:\n",
    "  #      current_url = url2\n",
    "  #  else:\n",
    "   #     current_url = url2 + '?after=' + after\n",
    "   # print(current_url)\n",
    "   # res = requests.get(current_url, headers={'User-agent': 'Pony Inc 4.0'})\n",
    "    \n",
    "   # if res.status_code != 200:\n",
    "    #    print('Status error', res.status_code)\n",
    "     #   break\n",
    "    \n",
    "    #current_dict = res.json()\n",
    "    #current_posts = [p['data'] for p in current_dict['data']['children']]\n",
    "    #posts2.extend(current_posts)\n",
    "    #after = current_dict['data']['after']\n",
    "    #pd.DataFrame(posts2).to_csv('../datasets/frontdesk.csv', index = False)  #saving csv and overwriting each csv after every loop\n",
    "    # generate a random sleep duration to look more 'natural'\n",
    "    #sleep_duration = random.randint(1,2)\n",
    "    #print(sleep_duration)\n",
    "    #time.sleep(sleep_duration)"
   ]
  },
  {
   "cell_type": "code",
   "execution_count": 6,
   "metadata": {},
   "outputs": [],
   "source": [
    "#len(set([p['selftext'] for p in posts1])) #946 unique server posts. This is commented out since it is related to the cell above."
   ]
  },
  {
   "cell_type": "code",
   "execution_count": 7,
   "metadata": {},
   "outputs": [],
   "source": [
    "#len(set([p['selftext'] for p in posts2]))  #868 unique frontdesk posts. This is commented out since it is related to the cell above."
   ]
  },
  {
   "cell_type": "code",
   "execution_count": 8,
   "metadata": {},
   "outputs": [],
   "source": [
    "server_df = pd.read_csv('../datasets/server.csv') #start from here - reading into a dataframe, the saved server csv"
   ]
  },
  {
   "cell_type": "code",
   "execution_count": 9,
   "metadata": {},
   "outputs": [],
   "source": [
    "frontdesk_df = pd.read_csv('../datasets/frontdesk.csv') #reading into a dataframe, the saved frontdesk csv"
   ]
  },
  {
   "cell_type": "code",
   "execution_count": 10,
   "metadata": {},
   "outputs": [
    {
     "data": {
      "text/plain": [
       "(990, 105)"
      ]
     },
     "execution_count": 10,
     "metadata": {},
     "output_type": "execute_result"
    }
   ],
   "source": [
    "server_df.shape #examining the server dataframe's dimensions"
   ]
  },
  {
   "cell_type": "code",
   "execution_count": 11,
   "metadata": {},
   "outputs": [
    {
     "data": {
      "text/plain": [
       "(982, 105)"
      ]
     },
     "execution_count": 11,
     "metadata": {},
     "output_type": "execute_result"
    }
   ],
   "source": [
    "frontdesk_df.shape #examining the frontdesk dataframe's dimensions"
   ]
  },
  {
   "cell_type": "code",
   "execution_count": 12,
   "metadata": {},
   "outputs": [],
   "source": [
    "server_subdf = server_df[['selftext','subreddit']].drop_duplicates('selftext') #selecting only for content defined by 'selftext' and target, 'subreddit' and removing duplicates for server dataframe - some of the posts were scraped more than once above. This would also remove duplicated empty posts - the assumption here is the empty posts are missing completely at random - more on this in the later section(s) of the notebook."
   ]
  },
  {
   "cell_type": "code",
   "execution_count": 13,
   "metadata": {},
   "outputs": [
    {
     "data": {
      "text/plain": [
       "(946, 2)"
      ]
     },
     "execution_count": 13,
     "metadata": {},
     "output_type": "execute_result"
    }
   ],
   "source": [
    "server_subdf.shape #examining the number of rows left after removing duplicates."
   ]
  },
  {
   "cell_type": "code",
   "execution_count": 14,
   "metadata": {},
   "outputs": [],
   "source": [
    "frontdesk_subdf = frontdesk_df[['selftext','subreddit']].drop_duplicates('selftext') #selecting only for content defined by 'selftext' and target, 'subreddit' and removing duplicates for frontdesk dataframe"
   ]
  },
  {
   "cell_type": "code",
   "execution_count": 15,
   "metadata": {},
   "outputs": [
    {
     "data": {
      "text/plain": [
       "(868, 2)"
      ]
     },
     "execution_count": 15,
     "metadata": {},
     "output_type": "execute_result"
    }
   ],
   "source": [
    "frontdesk_subdf.shape  #examining the number of rows left after removing duplicates."
   ]
  },
  {
   "cell_type": "code",
   "execution_count": 16,
   "metadata": {},
   "outputs": [
    {
     "data": {
      "text/html": [
       "<div>\n",
       "<style scoped>\n",
       "    .dataframe tbody tr th:only-of-type {\n",
       "        vertical-align: middle;\n",
       "    }\n",
       "\n",
       "    .dataframe tbody tr th {\n",
       "        vertical-align: top;\n",
       "    }\n",
       "\n",
       "    .dataframe thead th {\n",
       "        text-align: right;\n",
       "    }\n",
       "</style>\n",
       "<table border=\"1\" class=\"dataframe\">\n",
       "  <thead>\n",
       "    <tr style=\"text-align: right;\">\n",
       "      <th></th>\n",
       "      <th>selftext</th>\n",
       "      <th>subreddit</th>\n",
       "    </tr>\n",
       "  </thead>\n",
       "  <tbody>\n",
       "  </tbody>\n",
       "</table>\n",
       "</div>"
      ],
      "text/plain": [
       "Empty DataFrame\n",
       "Columns: [selftext, subreddit]\n",
       "Index: []"
      ]
     },
     "execution_count": 16,
     "metadata": {},
     "output_type": "execute_result"
    }
   ],
   "source": [
    "server_subdf[server_subdf['selftext']==''] #shown that empty posts are removed this way too - this means there were more than 1 empty post."
   ]
  },
  {
   "cell_type": "code",
   "execution_count": 17,
   "metadata": {},
   "outputs": [
    {
     "data": {
      "text/plain": [
       "selftext     1\n",
       "subreddit    0\n",
       "dtype: int64"
      ]
     },
     "execution_count": 17,
     "metadata": {},
     "output_type": "execute_result"
    }
   ],
   "source": [
    "server_subdf.isnull().sum() #checking server dataframe for null values, oh we have 1..."
   ]
  },
  {
   "cell_type": "code",
   "execution_count": 18,
   "metadata": {},
   "outputs": [
    {
     "data": {
      "text/html": [
       "<div>\n",
       "<style scoped>\n",
       "    .dataframe tbody tr th:only-of-type {\n",
       "        vertical-align: middle;\n",
       "    }\n",
       "\n",
       "    .dataframe tbody tr th {\n",
       "        vertical-align: top;\n",
       "    }\n",
       "\n",
       "    .dataframe thead th {\n",
       "        text-align: right;\n",
       "    }\n",
       "</style>\n",
       "<table border=\"1\" class=\"dataframe\">\n",
       "  <thead>\n",
       "    <tr style=\"text-align: right;\">\n",
       "      <th></th>\n",
       "      <th>selftext</th>\n",
       "      <th>subreddit</th>\n",
       "    </tr>\n",
       "  </thead>\n",
       "  <tbody>\n",
       "    <tr>\n",
       "      <th>283</th>\n",
       "      <td>NaN</td>\n",
       "      <td>TalesFromYourServer</td>\n",
       "    </tr>\n",
       "  </tbody>\n",
       "</table>\n",
       "</div>"
      ],
      "text/plain": [
       "    selftext            subreddit\n",
       "283      NaN  TalesFromYourServer"
      ]
     },
     "execution_count": 18,
     "metadata": {},
     "output_type": "execute_result"
    }
   ],
   "source": [
    "server_subdf[server_subdf.selftext.isnull()] #checking which row contains the null value in server dataframe..."
   ]
  },
  {
   "cell_type": "code",
   "execution_count": 19,
   "metadata": {},
   "outputs": [],
   "source": [
    "server_subdf.drop([283],inplace=True) #since there was only 1, assume missing completely at random and drop."
   ]
  },
  {
   "cell_type": "code",
   "execution_count": 20,
   "metadata": {},
   "outputs": [
    {
     "data": {
      "text/plain": [
       "selftext     0\n",
       "subreddit    0\n",
       "dtype: int64"
      ]
     },
     "execution_count": 20,
     "metadata": {},
     "output_type": "execute_result"
    }
   ],
   "source": [
    "server_subdf.isnull().sum() #no more nans for server!"
   ]
  },
  {
   "cell_type": "code",
   "execution_count": 21,
   "metadata": {},
   "outputs": [
    {
     "data": {
      "text/html": [
       "<div>\n",
       "<style scoped>\n",
       "    .dataframe tbody tr th:only-of-type {\n",
       "        vertical-align: middle;\n",
       "    }\n",
       "\n",
       "    .dataframe tbody tr th {\n",
       "        vertical-align: top;\n",
       "    }\n",
       "\n",
       "    .dataframe thead th {\n",
       "        text-align: right;\n",
       "    }\n",
       "</style>\n",
       "<table border=\"1\" class=\"dataframe\">\n",
       "  <thead>\n",
       "    <tr style=\"text-align: right;\">\n",
       "      <th></th>\n",
       "      <th>selftext</th>\n",
       "      <th>subreddit</th>\n",
       "    </tr>\n",
       "  </thead>\n",
       "  <tbody>\n",
       "  </tbody>\n",
       "</table>\n",
       "</div>"
      ],
      "text/plain": [
       "Empty DataFrame\n",
       "Columns: [selftext, subreddit]\n",
       "Index: []"
      ]
     },
     "execution_count": 21,
     "metadata": {},
     "output_type": "execute_result"
    }
   ],
   "source": [
    "frontdesk_subdf[frontdesk_subdf['selftext']==''] #similarly, check for nulls in frontdesk dataframe..."
   ]
  },
  {
   "cell_type": "code",
   "execution_count": 22,
   "metadata": {},
   "outputs": [
    {
     "data": {
      "text/plain": [
       "selftext     1\n",
       "subreddit    0\n",
       "dtype: int64"
      ]
     },
     "execution_count": 22,
     "metadata": {},
     "output_type": "execute_result"
    }
   ],
   "source": [
    "frontdesk_subdf.isnull().sum() #there is 1 null in the frontdesk dataframe too."
   ]
  },
  {
   "cell_type": "code",
   "execution_count": 23,
   "metadata": {},
   "outputs": [
    {
     "data": {
      "text/html": [
       "<div>\n",
       "<style scoped>\n",
       "    .dataframe tbody tr th:only-of-type {\n",
       "        vertical-align: middle;\n",
       "    }\n",
       "\n",
       "    .dataframe tbody tr th {\n",
       "        vertical-align: top;\n",
       "    }\n",
       "\n",
       "    .dataframe thead th {\n",
       "        text-align: right;\n",
       "    }\n",
       "</style>\n",
       "<table border=\"1\" class=\"dataframe\">\n",
       "  <thead>\n",
       "    <tr style=\"text-align: right;\">\n",
       "      <th></th>\n",
       "      <th>selftext</th>\n",
       "      <th>subreddit</th>\n",
       "    </tr>\n",
       "  </thead>\n",
       "  <tbody>\n",
       "    <tr>\n",
       "      <th>319</th>\n",
       "      <td>NaN</td>\n",
       "      <td>TalesFromTheFrontDesk</td>\n",
       "    </tr>\n",
       "  </tbody>\n",
       "</table>\n",
       "</div>"
      ],
      "text/plain": [
       "    selftext              subreddit\n",
       "319      NaN  TalesFromTheFrontDesk"
      ]
     },
     "execution_count": 23,
     "metadata": {},
     "output_type": "execute_result"
    }
   ],
   "source": [
    "frontdesk_subdf[frontdesk_subdf.selftext.isnull()] #finding out where the null value is."
   ]
  },
  {
   "cell_type": "code",
   "execution_count": 24,
   "metadata": {},
   "outputs": [],
   "source": [
    "frontdesk_subdf.drop([319],inplace=True) #assuming row is missing completely at random and drop it."
   ]
  },
  {
   "cell_type": "code",
   "execution_count": 25,
   "metadata": {},
   "outputs": [
    {
     "data": {
      "text/plain": [
       "selftext     0\n",
       "subreddit    0\n",
       "dtype: int64"
      ]
     },
     "execution_count": 25,
     "metadata": {},
     "output_type": "execute_result"
    }
   ],
   "source": [
    "frontdesk_subdf.isnull().sum() #no more nans for frontdesk!"
   ]
  },
  {
   "cell_type": "code",
   "execution_count": 26,
   "metadata": {},
   "outputs": [
    {
     "data": {
      "text/plain": [
       "(945, 2)"
      ]
     },
     "execution_count": 26,
     "metadata": {},
     "output_type": "execute_result"
    }
   ],
   "source": [
    "server_subdf.shape #checking the dimensions of server dataframe after those modifications above."
   ]
  },
  {
   "cell_type": "code",
   "execution_count": 27,
   "metadata": {},
   "outputs": [
    {
     "data": {
      "text/plain": [
       "(867, 2)"
      ]
     },
     "execution_count": 27,
     "metadata": {},
     "output_type": "execute_result"
    }
   ],
   "source": [
    "frontdesk_subdf.shape #checking the dimensions of frontdesk dataframe after those modifications above."
   ]
  },
  {
   "cell_type": "code",
   "execution_count": 28,
   "metadata": {},
   "outputs": [
    {
     "data": {
      "text/plain": [
       "(1812, 2)"
      ]
     },
     "execution_count": 28,
     "metadata": {},
     "output_type": "execute_result"
    }
   ],
   "source": [
    "df_full = pd.concat([server_subdf, frontdesk_subdf], axis=0) #merged both server and frontdesk data to form full df.\n",
    "df_full.shape"
   ]
  },
  {
   "cell_type": "code",
   "execution_count": 29,
   "metadata": {},
   "outputs": [
    {
     "data": {
      "text/html": [
       "<div>\n",
       "<style scoped>\n",
       "    .dataframe tbody tr th:only-of-type {\n",
       "        vertical-align: middle;\n",
       "    }\n",
       "\n",
       "    .dataframe tbody tr th {\n",
       "        vertical-align: top;\n",
       "    }\n",
       "\n",
       "    .dataframe thead th {\n",
       "        text-align: right;\n",
       "    }\n",
       "</style>\n",
       "<table border=\"1\" class=\"dataframe\">\n",
       "  <thead>\n",
       "    <tr style=\"text-align: right;\">\n",
       "      <th></th>\n",
       "      <th>selftext</th>\n",
       "      <th>subreddit</th>\n",
       "    </tr>\n",
       "  </thead>\n",
       "  <tbody>\n",
       "    <tr>\n",
       "      <th>0</th>\n",
       "      <td>Whether you're a new server, busser, host, or ...</td>\n",
       "      <td>TalesFromYourServer</td>\n",
       "    </tr>\n",
       "    <tr>\n",
       "      <th>1</th>\n",
       "      <td>This is obviously a minor complaint, but still...</td>\n",
       "      <td>TalesFromYourServer</td>\n",
       "    </tr>\n",
       "    <tr>\n",
       "      <th>2</th>\n",
       "      <td>Years ago, my first restaurant job back out of...</td>\n",
       "      <td>TalesFromYourServer</td>\n",
       "    </tr>\n",
       "    <tr>\n",
       "      <th>3</th>\n",
       "      <td>Last week someone else’s table waved me down s...</td>\n",
       "      <td>TalesFromYourServer</td>\n",
       "    </tr>\n",
       "    <tr>\n",
       "      <th>4</th>\n",
       "      <td>I’m not sure if this belong here but I don’t c...</td>\n",
       "      <td>TalesFromYourServer</td>\n",
       "    </tr>\n",
       "  </tbody>\n",
       "</table>\n",
       "</div>"
      ],
      "text/plain": [
       "                                            selftext            subreddit\n",
       "0  Whether you're a new server, busser, host, or ...  TalesFromYourServer\n",
       "1  This is obviously a minor complaint, but still...  TalesFromYourServer\n",
       "2  Years ago, my first restaurant job back out of...  TalesFromYourServer\n",
       "3  Last week someone else’s table waved me down s...  TalesFromYourServer\n",
       "4  I’m not sure if this belong here but I don’t c...  TalesFromYourServer"
      ]
     },
     "execution_count": 29,
     "metadata": {},
     "output_type": "execute_result"
    }
   ],
   "source": [
    "df_full.head() #the top 900+ rows are from server tales while the rest are from front desk tales."
   ]
  },
  {
   "cell_type": "code",
   "execution_count": 30,
   "metadata": {},
   "outputs": [
    {
     "data": {
      "text/html": [
       "<div>\n",
       "<style scoped>\n",
       "    .dataframe tbody tr th:only-of-type {\n",
       "        vertical-align: middle;\n",
       "    }\n",
       "\n",
       "    .dataframe tbody tr th {\n",
       "        vertical-align: top;\n",
       "    }\n",
       "\n",
       "    .dataframe thead th {\n",
       "        text-align: right;\n",
       "    }\n",
       "</style>\n",
       "<table border=\"1\" class=\"dataframe\">\n",
       "  <thead>\n",
       "    <tr style=\"text-align: right;\">\n",
       "      <th></th>\n",
       "      <th>selftext</th>\n",
       "      <th>subreddit</th>\n",
       "    </tr>\n",
       "  </thead>\n",
       "  <tbody>\n",
       "    <tr>\n",
       "      <th>876</th>\n",
       "      <td>So I'm working as the receptionist at an apart...</td>\n",
       "      <td>TalesFromTheFrontDesk</td>\n",
       "    </tr>\n",
       "    <tr>\n",
       "      <th>877</th>\n",
       "      <td>This happened about a month back.  I am an FOM...</td>\n",
       "      <td>TalesFromTheFrontDesk</td>\n",
       "    </tr>\n",
       "    <tr>\n",
       "      <th>878</th>\n",
       "      <td>I spent about 15 minutes trying to explain why...</td>\n",
       "      <td>TalesFromTheFrontDesk</td>\n",
       "    </tr>\n",
       "    <tr>\n",
       "      <th>879</th>\n",
       "      <td>English is not my language etc...\\n\\nWe all kn...</td>\n",
       "      <td>TalesFromTheFrontDesk</td>\n",
       "    </tr>\n",
       "    <tr>\n",
       "      <th>880</th>\n",
       "      <td>Its great to be back 5 months after quitting t...</td>\n",
       "      <td>TalesFromTheFrontDesk</td>\n",
       "    </tr>\n",
       "  </tbody>\n",
       "</table>\n",
       "</div>"
      ],
      "text/plain": [
       "                                              selftext              subreddit\n",
       "876  So I'm working as the receptionist at an apart...  TalesFromTheFrontDesk\n",
       "877  This happened about a month back.  I am an FOM...  TalesFromTheFrontDesk\n",
       "878  I spent about 15 minutes trying to explain why...  TalesFromTheFrontDesk\n",
       "879  English is not my language etc...\\n\\nWe all kn...  TalesFromTheFrontDesk\n",
       "880  Its great to be back 5 months after quitting t...  TalesFromTheFrontDesk"
      ]
     },
     "execution_count": 30,
     "metadata": {},
     "output_type": "execute_result"
    }
   ],
   "source": [
    "df_full.tail()"
   ]
  },
  {
   "cell_type": "code",
   "execution_count": 31,
   "metadata": {},
   "outputs": [
    {
     "data": {
      "text/html": [
       "<div>\n",
       "<style scoped>\n",
       "    .dataframe tbody tr th:only-of-type {\n",
       "        vertical-align: middle;\n",
       "    }\n",
       "\n",
       "    .dataframe tbody tr th {\n",
       "        vertical-align: top;\n",
       "    }\n",
       "\n",
       "    .dataframe thead th {\n",
       "        text-align: right;\n",
       "    }\n",
       "</style>\n",
       "<table border=\"1\" class=\"dataframe\">\n",
       "  <thead>\n",
       "    <tr style=\"text-align: right;\">\n",
       "      <th></th>\n",
       "      <th>selftext</th>\n",
       "      <th>subreddit</th>\n",
       "    </tr>\n",
       "  </thead>\n",
       "  <tbody>\n",
       "    <tr>\n",
       "      <th>0</th>\n",
       "      <td>Want to talk about something that isn't a fron...</td>\n",
       "      <td>TalesFromTheFrontDesk</td>\n",
       "    </tr>\n",
       "    <tr>\n",
       "      <th>1</th>\n",
       "      <td>My hotel is about to go under some major renov...</td>\n",
       "      <td>TalesFromTheFrontDesk</td>\n",
       "    </tr>\n",
       "    <tr>\n",
       "      <th>2</th>\n",
       "      <td>This was from over the summer, but it still ir...</td>\n",
       "      <td>TalesFromTheFrontDesk</td>\n",
       "    </tr>\n",
       "    <tr>\n",
       "      <th>3</th>\n",
       "      <td>I mentioned this scam over in some comments, t...</td>\n",
       "      <td>TalesFromTheFrontDesk</td>\n",
       "    </tr>\n",
       "    <tr>\n",
       "      <th>4</th>\n",
       "      <td>Another post reminded me of this story from a ...</td>\n",
       "      <td>TalesFromTheFrontDesk</td>\n",
       "    </tr>\n",
       "    <tr>\n",
       "      <th>...</th>\n",
       "      <td>...</td>\n",
       "      <td>...</td>\n",
       "    </tr>\n",
       "    <tr>\n",
       "      <th>876</th>\n",
       "      <td>So I'm working as the receptionist at an apart...</td>\n",
       "      <td>TalesFromTheFrontDesk</td>\n",
       "    </tr>\n",
       "    <tr>\n",
       "      <th>877</th>\n",
       "      <td>This happened about a month back.  I am an FOM...</td>\n",
       "      <td>TalesFromTheFrontDesk</td>\n",
       "    </tr>\n",
       "    <tr>\n",
       "      <th>878</th>\n",
       "      <td>I spent about 15 minutes trying to explain why...</td>\n",
       "      <td>TalesFromTheFrontDesk</td>\n",
       "    </tr>\n",
       "    <tr>\n",
       "      <th>879</th>\n",
       "      <td>English is not my language etc...\\n\\nWe all kn...</td>\n",
       "      <td>TalesFromTheFrontDesk</td>\n",
       "    </tr>\n",
       "    <tr>\n",
       "      <th>880</th>\n",
       "      <td>Its great to be back 5 months after quitting t...</td>\n",
       "      <td>TalesFromTheFrontDesk</td>\n",
       "    </tr>\n",
       "  </tbody>\n",
       "</table>\n",
       "<p>850 rows × 2 columns</p>\n",
       "</div>"
      ],
      "text/plain": [
       "                                              selftext              subreddit\n",
       "0    Want to talk about something that isn't a fron...  TalesFromTheFrontDesk\n",
       "1    My hotel is about to go under some major renov...  TalesFromTheFrontDesk\n",
       "2    This was from over the summer, but it still ir...  TalesFromTheFrontDesk\n",
       "3    I mentioned this scam over in some comments, t...  TalesFromTheFrontDesk\n",
       "4    Another post reminded me of this story from a ...  TalesFromTheFrontDesk\n",
       "..                                                 ...                    ...\n",
       "876  So I'm working as the receptionist at an apart...  TalesFromTheFrontDesk\n",
       "877  This happened about a month back.  I am an FOM...  TalesFromTheFrontDesk\n",
       "878  I spent about 15 minutes trying to explain why...  TalesFromTheFrontDesk\n",
       "879  English is not my language etc...\\n\\nWe all kn...  TalesFromTheFrontDesk\n",
       "880  Its great to be back 5 months after quitting t...  TalesFromTheFrontDesk\n",
       "\n",
       "[850 rows x 2 columns]"
      ]
     },
     "execution_count": 31,
     "metadata": {},
     "output_type": "execute_result"
    }
   ],
   "source": [
    "df_full[df_full.index.duplicated()]  #this shows duplicated indices and they need to be reindexed..."
   ]
  },
  {
   "cell_type": "code",
   "execution_count": 32,
   "metadata": {},
   "outputs": [],
   "source": [
    "df_full.reset_index(drop=True, inplace=True) #reindexing the newly combined dataframe."
   ]
  },
  {
   "cell_type": "code",
   "execution_count": 33,
   "metadata": {},
   "outputs": [
    {
     "data": {
      "text/html": [
       "<div>\n",
       "<style scoped>\n",
       "    .dataframe tbody tr th:only-of-type {\n",
       "        vertical-align: middle;\n",
       "    }\n",
       "\n",
       "    .dataframe tbody tr th {\n",
       "        vertical-align: top;\n",
       "    }\n",
       "\n",
       "    .dataframe thead th {\n",
       "        text-align: right;\n",
       "    }\n",
       "</style>\n",
       "<table border=\"1\" class=\"dataframe\">\n",
       "  <thead>\n",
       "    <tr style=\"text-align: right;\">\n",
       "      <th></th>\n",
       "      <th>selftext</th>\n",
       "      <th>subreddit</th>\n",
       "    </tr>\n",
       "  </thead>\n",
       "  <tbody>\n",
       "    <tr>\n",
       "      <th>1807</th>\n",
       "      <td>So I'm working as the receptionist at an apart...</td>\n",
       "      <td>TalesFromTheFrontDesk</td>\n",
       "    </tr>\n",
       "    <tr>\n",
       "      <th>1808</th>\n",
       "      <td>This happened about a month back.  I am an FOM...</td>\n",
       "      <td>TalesFromTheFrontDesk</td>\n",
       "    </tr>\n",
       "    <tr>\n",
       "      <th>1809</th>\n",
       "      <td>I spent about 15 minutes trying to explain why...</td>\n",
       "      <td>TalesFromTheFrontDesk</td>\n",
       "    </tr>\n",
       "    <tr>\n",
       "      <th>1810</th>\n",
       "      <td>English is not my language etc...\\n\\nWe all kn...</td>\n",
       "      <td>TalesFromTheFrontDesk</td>\n",
       "    </tr>\n",
       "    <tr>\n",
       "      <th>1811</th>\n",
       "      <td>Its great to be back 5 months after quitting t...</td>\n",
       "      <td>TalesFromTheFrontDesk</td>\n",
       "    </tr>\n",
       "  </tbody>\n",
       "</table>\n",
       "</div>"
      ],
      "text/plain": [
       "                                               selftext              subreddit\n",
       "1807  So I'm working as the receptionist at an apart...  TalesFromTheFrontDesk\n",
       "1808  This happened about a month back.  I am an FOM...  TalesFromTheFrontDesk\n",
       "1809  I spent about 15 minutes trying to explain why...  TalesFromTheFrontDesk\n",
       "1810  English is not my language etc...\\n\\nWe all kn...  TalesFromTheFrontDesk\n",
       "1811  Its great to be back 5 months after quitting t...  TalesFromTheFrontDesk"
      ]
     },
     "execution_count": 33,
     "metadata": {},
     "output_type": "execute_result"
    }
   ],
   "source": [
    "df_full.tail() #data has been reindexed!"
   ]
  },
  {
   "cell_type": "code",
   "execution_count": 34,
   "metadata": {},
   "outputs": [
    {
     "data": {
      "text/plain": [
       "(1812, 2)"
      ]
     },
     "execution_count": 34,
     "metadata": {},
     "output_type": "execute_result"
    }
   ],
   "source": [
    "df_full.shape #checking out the dimensions of the combined dataframe."
   ]
  },
  {
   "cell_type": "code",
   "execution_count": 35,
   "metadata": {},
   "outputs": [
    {
     "data": {
      "text/html": [
       "<div>\n",
       "<style scoped>\n",
       "    .dataframe tbody tr th:only-of-type {\n",
       "        vertical-align: middle;\n",
       "    }\n",
       "\n",
       "    .dataframe tbody tr th {\n",
       "        vertical-align: top;\n",
       "    }\n",
       "\n",
       "    .dataframe thead th {\n",
       "        text-align: right;\n",
       "    }\n",
       "</style>\n",
       "<table border=\"1\" class=\"dataframe\">\n",
       "  <thead>\n",
       "    <tr style=\"text-align: right;\">\n",
       "      <th></th>\n",
       "      <th>selftext</th>\n",
       "      <th>subreddit</th>\n",
       "    </tr>\n",
       "  </thead>\n",
       "  <tbody>\n",
       "    <tr>\n",
       "      <th>1605</th>\n",
       "      <td>This is a really short story I decided to uplo...</td>\n",
       "      <td>TalesFromTheFrontDesk</td>\n",
       "    </tr>\n",
       "    <tr>\n",
       "      <th>707</th>\n",
       "      <td>I work at a restaurant where we set the tables...</td>\n",
       "      <td>TalesFromYourServer</td>\n",
       "    </tr>\n",
       "    <tr>\n",
       "      <th>1791</th>\n",
       "      <td>First post here; finally got enough karma to t...</td>\n",
       "      <td>TalesFromTheFrontDesk</td>\n",
       "    </tr>\n",
       "    <tr>\n",
       "      <th>1631</th>\n",
       "      <td>Okay, so yesterday night, I was told that some...</td>\n",
       "      <td>TalesFromTheFrontDesk</td>\n",
       "    </tr>\n",
       "    <tr>\n",
       "      <th>916</th>\n",
       "      <td>This is not a story. Well kinda, but not.\\n\\nI...</td>\n",
       "      <td>TalesFromYourServer</td>\n",
       "    </tr>\n",
       "    <tr>\n",
       "      <th>...</th>\n",
       "      <td>...</td>\n",
       "      <td>...</td>\n",
       "    </tr>\n",
       "    <tr>\n",
       "      <th>1130</th>\n",
       "      <td>I have been at the property I currently work a...</td>\n",
       "      <td>TalesFromTheFrontDesk</td>\n",
       "    </tr>\n",
       "    <tr>\n",
       "      <th>1294</th>\n",
       "      <td>Reading another post recently about hell guest...</td>\n",
       "      <td>TalesFromTheFrontDesk</td>\n",
       "    </tr>\n",
       "    <tr>\n",
       "      <th>860</th>\n",
       "      <td>Just a quick rant about a table of four middle...</td>\n",
       "      <td>TalesFromYourServer</td>\n",
       "    </tr>\n",
       "    <tr>\n",
       "      <th>1459</th>\n",
       "      <td>***Edit to add: It's been pointed out that tho...</td>\n",
       "      <td>TalesFromTheFrontDesk</td>\n",
       "    </tr>\n",
       "    <tr>\n",
       "      <th>1126</th>\n",
       "      <td>Okay so I guess this isn't really a big long t...</td>\n",
       "      <td>TalesFromTheFrontDesk</td>\n",
       "    </tr>\n",
       "  </tbody>\n",
       "</table>\n",
       "<p>1812 rows × 2 columns</p>\n",
       "</div>"
      ],
      "text/plain": [
       "                                               selftext              subreddit\n",
       "1605  This is a really short story I decided to uplo...  TalesFromTheFrontDesk\n",
       "707   I work at a restaurant where we set the tables...    TalesFromYourServer\n",
       "1791  First post here; finally got enough karma to t...  TalesFromTheFrontDesk\n",
       "1631  Okay, so yesterday night, I was told that some...  TalesFromTheFrontDesk\n",
       "916   This is not a story. Well kinda, but not.\\n\\nI...    TalesFromYourServer\n",
       "...                                                 ...                    ...\n",
       "1130  I have been at the property I currently work a...  TalesFromTheFrontDesk\n",
       "1294  Reading another post recently about hell guest...  TalesFromTheFrontDesk\n",
       "860   Just a quick rant about a table of four middle...    TalesFromYourServer\n",
       "1459  ***Edit to add: It's been pointed out that tho...  TalesFromTheFrontDesk\n",
       "1126  Okay so I guess this isn't really a big long t...  TalesFromTheFrontDesk\n",
       "\n",
       "[1812 rows x 2 columns]"
      ]
     },
     "execution_count": 35,
     "metadata": {},
     "output_type": "execute_result"
    }
   ],
   "source": [
    "df_full = df_full.sample(n=df_full.shape[0], replace=False, random_state=42) #shuffled the dataset so that server and frontdesk rows are mixed randomly using df.sample()\n",
    "df_full"
   ]
  },
  {
   "cell_type": "markdown",
   "metadata": {},
   "source": [
    "# Feature Engineering\n",
    "---\n",
    "[Click here to go back to Contents](#Contents)\n",
    "- Under ```subreddit``` target column, ```TalesFromYourServer``` will be assigned 1 while ```TalesFromTheFrontDesk``` will be assigned 0 for modelling later on.\n",
    "- This means that we will be predicting for class 1 (```TalesFromYourServer```)"
   ]
  },
  {
   "cell_type": "code",
   "execution_count": 36,
   "metadata": {},
   "outputs": [
    {
     "data": {
      "text/plain": [
       "1605    0\n",
       "707     1\n",
       "1791    0\n",
       "1631    0\n",
       "916     1\n",
       "       ..\n",
       "1130    0\n",
       "1294    0\n",
       "860     1\n",
       "1459    0\n",
       "1126    0\n",
       "Name: subreddit, Length: 1812, dtype: int64"
      ]
     },
     "execution_count": 36,
     "metadata": {},
     "output_type": "execute_result"
    }
   ],
   "source": [
    "df_full['subreddit'] = df_full['subreddit'].map({'TalesFromYourServer': 1,    #mapping target values to either class 1 or 0 for subsequent consumption by model later on.\n",
    "                     'TalesFromTheFrontDesk': 0})                             #for this case, server tales are assigned to class 1, and frontdesk tales are assigned to class 0.\n",
    "df_full['subreddit']"
   ]
  },
  {
   "cell_type": "code",
   "execution_count": 37,
   "metadata": {},
   "outputs": [
    {
     "data": {
      "text/plain": [
       "1    945\n",
       "0    867\n",
       "Name: subreddit, dtype: int64"
      ]
     },
     "execution_count": 37,
     "metadata": {},
     "output_type": "execute_result"
    }
   ],
   "source": [
    "df_full['subreddit'].value_counts() #<10% ((((990+982) - (945+867)) / (990+982)) * 100) of data has been removed from the dataset either because the posts were empty (assumed to be missing completely at random (MCAR)) or they were duplicate posts as a result of the scraping function executed above."
   ]
  },
  {
   "cell_type": "markdown",
   "metadata": {},
   "source": [
    "Based on the above, server tales (class 1) constitutes 52% ((945/(945+867))*100) while frontdesk tales (class 0) constitutes 48% ((867/(945+867)*100) so our classes are more or less balanced. Thus, classification metrics like accuracy score can be considered as as an evaluation metric later on."
   ]
  },
  {
   "cell_type": "code",
   "execution_count": 38,
   "metadata": {},
   "outputs": [
    {
     "data": {
      "text/plain": [
       "selftext     0\n",
       "subreddit    0\n",
       "dtype: int64"
      ]
     },
     "execution_count": 38,
     "metadata": {},
     "output_type": "execute_result"
    }
   ],
   "source": [
    "df_full.isnull().sum() #free of nulls!"
   ]
  },
  {
   "cell_type": "markdown",
   "metadata": {},
   "source": [
    "# Feature and Target Definitions and Preprocessing\n",
    "---\n",
    "[Click here to go back to Contents](#Contents)\n",
    "- Feature array, X, only contains ```selftext``` while target array, y, contains ```subreddit``` which defines the label of the respective subreddit's ```selftexts``` - 1 for those from ```TalesFromYourServer``` while 0 for those from ```TalesFromTheFrontDesk```.\n",
    "- Preprocessing involves getting rid of http urls, digits, punctuations and non-letters, converting all letters to lower case.\n"
   ]
  },
  {
   "cell_type": "code",
   "execution_count": 39,
   "metadata": {},
   "outputs": [],
   "source": [
    "#defining X features and y target\n",
    "X = df_full['selftext']\n",
    "y = df_full['subreddit']"
   ]
  },
  {
   "cell_type": "code",
   "execution_count": 40,
   "metadata": {},
   "outputs": [],
   "source": [
    "cust_stop_words = [word for word in stop_words.ENGLISH_STOP_WORDS] #converting frozenset of sklearn english stop words into a mutable iterable - list."
   ]
  },
  {
   "cell_type": "code",
   "execution_count": 41,
   "metadata": {},
   "outputs": [],
   "source": [
    "cust_stop_words.append(\"wa\") #adding \"wa\" into the list of stop words"
   ]
  },
  {
   "cell_type": "code",
   "execution_count": 42,
   "metadata": {},
   "outputs": [],
   "source": [
    "lemm = WordNetLemmatizer()\n",
    "\n",
    "def text_processer(raw_text):\n",
    "    # Function to convert a raw string of text to a string of words\n",
    "    # The input is a single string (a raw unprocessed text), and \n",
    "    # the output is a single string (a preprocessed text)\n",
    "    \n",
    "    # 1. Remove http urls.\n",
    "    review_text = re.sub(\"\\(http.+\\)\", \" \", raw_text)\n",
    "    \n",
    "    # 2. Remove non-letters.\n",
    "    letters_only = re.sub(\"[^a-zA-Z]\", \" \", review_text)\n",
    "    \n",
    "    # 3. Convert to lower case, split into individual words.\n",
    "    words = letters_only.lower().split()\n",
    "    \n",
    "    # 4. Lemmatize words.\n",
    "    lemmed_words = [lemm.lemmatize(i) for i in words]\n",
    "    \n",
    "    # 5. Remove stop words.\n",
    "    \n",
    "    meaningful_words = [w for w in lemmed_words if not w in cust_stop_words]\n",
    "    \n",
    "    # 6. Join the words back into one string separated by space, \n",
    "    # and return the result.\n",
    "    return(\" \".join(meaningful_words))"
   ]
  },
  {
   "cell_type": "code",
   "execution_count": 43,
   "metadata": {},
   "outputs": [
    {
     "data": {
      "text/plain": [
       "1605    This is a really short story I decided to uplo...\n",
       "707     I work at a restaurant where we set the tables...\n",
       "1791    First post here; finally got enough karma to t...\n",
       "1631    Okay, so yesterday night, I was told that some...\n",
       "916     This is not a story. Well kinda, but not.\\n\\nI...\n",
       "                              ...                        \n",
       "1130    I have been at the property I currently work a...\n",
       "1294    Reading another post recently about hell guest...\n",
       "860     Just a quick rant about a table of four middle...\n",
       "1459    ***Edit to add: It's been pointed out that tho...\n",
       "1126    Okay so I guess this isn't really a big long t...\n",
       "Name: selftext, Length: 1812, dtype: object"
      ]
     },
     "execution_count": 43,
     "metadata": {},
     "output_type": "execute_result"
    }
   ],
   "source": [
    "X  #checking how X looks like prior to text processing..."
   ]
  },
  {
   "cell_type": "code",
   "execution_count": 44,
   "metadata": {},
   "outputs": [
    {
     "data": {
      "text/plain": [
       "0       really short story decided upload m doing audi...\n",
       "1       work restaurant set table plate menu napkin fo...\n",
       "2       post finally got karma tell particular story a...\n",
       "3       okay yesterday night told requested muffin pla...\n",
       "4       story kinda live town ha alot military work ba...\n",
       "                              ...                        \n",
       "1807    property currently work year half generally ma...\n",
       "1808    reading post recently hell guest reminded old ...\n",
       "1809    just quick rant table middle aged lady know ar...\n",
       "1810    edit add s pointed service animal required doc...\n",
       "1811    okay guess isn t really big long tale just com...\n",
       "Length: 1812, dtype: object"
      ]
     },
     "execution_count": 44,
     "metadata": {},
     "output_type": "execute_result"
    }
   ],
   "source": [
    "X1 = pd.Series([text_processer(text) for text in X]) #feature dataframe, X1 is now processed.\n",
    "X1 #noticed index has been reset in the new X1 feature array..."
   ]
  },
  {
   "cell_type": "code",
   "execution_count": 45,
   "metadata": {},
   "outputs": [],
   "source": [
    "y.reset_index(drop=True, inplace=True) #thus reset the index in the target array too."
   ]
  },
  {
   "cell_type": "code",
   "execution_count": 46,
   "metadata": {},
   "outputs": [
    {
     "data": {
      "text/plain": [
       "0       0\n",
       "1       1\n",
       "2       0\n",
       "3       0\n",
       "4       1\n",
       "       ..\n",
       "1807    0\n",
       "1808    0\n",
       "1809    1\n",
       "1810    0\n",
       "1811    0\n",
       "Name: subreddit, Length: 1812, dtype: int64"
      ]
     },
     "execution_count": 46,
     "metadata": {},
     "output_type": "execute_result"
    }
   ],
   "source": [
    "y #index reset"
   ]
  },
  {
   "cell_type": "code",
   "execution_count": 47,
   "metadata": {},
   "outputs": [],
   "source": [
    "X_train, X_test, y_train, y_test = train_test_split(X1, y, stratify=y, random_state=42)  #splitting feature and target into training and test sets for model evaluation later. Test size is set to the default, 0.25"
   ]
  },
  {
   "cell_type": "code",
   "execution_count": 48,
   "metadata": {},
   "outputs": [
    {
     "data": {
      "text/plain": [
       "1    0.521707\n",
       "0    0.478293\n",
       "Name: subreddit, dtype: float64"
      ]
     },
     "execution_count": 48,
     "metadata": {},
     "output_type": "execute_result"
    }
   ],
   "source": [
    "y_train.value_counts(normalize=True) #naive baseline accuracy of the entire dataset follows the proportion of the majority class (majority class: 0.52)"
   ]
  },
  {
   "cell_type": "markdown",
   "metadata": {},
   "source": [
    "- Based on the above, the baseline accuracy is 0.52."
   ]
  },
  {
   "cell_type": "markdown",
   "metadata": {},
   "source": [
    "# Exploratory Data Analysis of Preprocessed Texts\n",
    "---\n",
    "\n",
    "[Click here to go back to Contents](#Contents)\n",
    "\n",
    "- Kindly note that to avoid runtime error(s) in executing the wordcloud code below (in the event you did not follow the instructions right at the top of this notebook to install wordcloud and import the relevant libraries mentioned), I have commented out the wordcloud-generation code below and pasted the wordcloud image outputs in the following markdown cells instead for your reference."
   ]
  },
  {
   "cell_type": "code",
   "execution_count": 140,
   "metadata": {},
   "outputs": [],
   "source": [
    "#Xtrain_df = pd.DataFrame(X_train, columns = ['selftext'])  #These are commented out to avoid regenerating wordcloud with random configurations of the look and placement of words, I have saved the orginals as png images in the respective markdown cells below for your reference - there is no need to execute these wordcloud codes \n",
    "\n",
    "#Xtrain_df['subreddit'] = y_train\n",
    "\n",
    "#text = \" \".join(review for review in Xtrain_df['selftext'])  ##building word cloud for both server and frontdesk tales.\n",
    "\n",
    "#print (\"There are {} words in the combination of all reviews.\".format(len(text)))\n",
    "\n",
    "#stopwords = set(cust_stop_words)\n",
    "\n",
    "#wordcloud = WordCloud(stopwords=stopwords, background_color=\"white\").generate(text)\n",
    "\n",
    "#plt.imshow(wordcloud, interpolation='bilinear')\n",
    "#plt.axis(\"off\")\n",
    "#plt.show()"
   ]
  },
  {
   "cell_type": "code",
   "execution_count": 50,
   "metadata": {},
   "outputs": [
    {
     "data": {
      "text/plain": [
       "<wordcloud.wordcloud.WordCloud at 0x1a205cccd0>"
      ]
     },
     "execution_count": 50,
     "metadata": {},
     "output_type": "execute_result"
    }
   ],
   "source": [
    "#Save the image in the img folder:\n",
    "#wordcloud.to_file(\"../images/server_frontdesk1.png\")"
   ]
  },
  {
   "cell_type": "markdown",
   "metadata": {},
   "source": [
    "<img src=\"../images/server_frontdesk1.png\"/>"
   ]
  },
  {
   "cell_type": "markdown",
   "metadata": {},
   "source": [
    "The above shows the wordcloud image for both server and frontdesk tales. In general the word cloud shows that words like, \"just\",\"like\",\"time\" are more common words for both server and front desk tales (most prominent common word being \"just\"). Such a visualization may provide a rough idea about what words could be important in predicting the nature of the post (which subreddit the post comes from)."
   ]
  },
  {
   "cell_type": "code",
   "execution_count": 141,
   "metadata": {},
   "outputs": [],
   "source": [
    "#text1 = \" \".join(review for review in Xtrain_df[Xtrain_df['subreddit']==1]['selftext']) #building word cloud for server tales.\n",
    "     #These are commented out to avoid regenerating wordcloud with random configurations of the look and placement of words, I have saved the orginals as png images in the respective markdown cells below for your reference - there is no need to execute these wordcloud codes\n",
    "#print (\"There are {} words in the combination of all 'TalesFromYourServer' reviews.\".format(len(text1)))\n",
    "\n",
    "#wordcloud1 = WordCloud(stopwords=stopwords, background_color=\"white\").generate(text1)\n",
    "\n",
    "#plt.imshow(wordcloud1, interpolation='bilinear')\n",
    "#plt.axis(\"off\")\n",
    "#plt.show()"
   ]
  },
  {
   "cell_type": "code",
   "execution_count": 52,
   "metadata": {},
   "outputs": [
    {
     "data": {
      "text/plain": [
       "<wordcloud.wordcloud.WordCloud at 0x1a20630690>"
      ]
     },
     "execution_count": 52,
     "metadata": {},
     "output_type": "execute_result"
    }
   ],
   "source": [
    "#Save the image in the img folder:\n",
    "#wordcloud1.to_file(\"../images/server1.png\")"
   ]
  },
  {
   "cell_type": "markdown",
   "metadata": {},
   "source": [
    "<img src=\"../images/server1.png\"/>"
   ]
  },
  {
   "cell_type": "markdown",
   "metadata": {},
   "source": [
    "The above shows the wordcloud image for server tales. For server tales, not surprisingly, words like \"table\" stand out more as they are typically associated with dining establishments."
   ]
  },
  {
   "cell_type": "code",
   "execution_count": 142,
   "metadata": {},
   "outputs": [],
   "source": [
    "#text2 = \" \".join(review for review in Xtrain_df[Xtrain_df['subreddit']==0]['selftext']) #building word cloud for frontdesk tales.\n",
    "   #These are commented out to avoid regenerating wordcloud with random configurations of the look and placement of words, I have saved the orginals as png images in the respective markdown cells below for your reference - there is no need to execute these wordcloud codes\n",
    "#print (\"There are {} words in the combination of all 'TalesFromTheFrontDesk' reviews.\".format(len(text2)))\n",
    "\n",
    "#wordcloud2 = WordCloud(stopwords=stopwords, background_color=\"white\").generate(text2)\n",
    "\n",
    "#plt.imshow(wordcloud2, interpolation='bilinear')\n",
    "#plt.axis(\"off\")\n",
    "#plt.show()"
   ]
  },
  {
   "cell_type": "code",
   "execution_count": 54,
   "metadata": {},
   "outputs": [
    {
     "data": {
      "text/plain": [
       "<wordcloud.wordcloud.WordCloud at 0x1a21aeb910>"
      ]
     },
     "execution_count": 54,
     "metadata": {},
     "output_type": "execute_result"
    }
   ],
   "source": [
    "#Save the image in the img folder:\n",
    "#wordcloud2.to_file(\"../images/frontdesk1.png\")"
   ]
  },
  {
   "cell_type": "markdown",
   "metadata": {},
   "source": [
    "<img src=\"../images/frontdesk1.png\"/>"
   ]
  },
  {
   "cell_type": "markdown",
   "metadata": {},
   "source": [
    "The above shows the wordcloud image for frontdesk tales. Words associated with hospitality such as \"room\" are more common. Nevertheless, across all 3 wordclouds, certain words like \"just\" are rather common too - this suggests that perhaps \"just staff treatment\" for instance is common for both server and front desk posts! This may make distinguishing between server and frontdesk reddit posts difficult, which in turn beckons the need for a classification algorithm that can quickly pre-filter relevant posts for various agencies to address!"
   ]
  },
  {
   "cell_type": "markdown",
   "metadata": {},
   "source": [
    "# Modelling and Hyperparameter Tuning\n",
    "---\n",
    "[Click here to go back to Contents](#Contents)"
   ]
  },
  {
   "cell_type": "markdown",
   "metadata": {},
   "source": [
    "- Begin by instantiating a naive CountVectorizer(cvec) and fitting the data to get a sense of it, before tuning the hyperparameters via GridSearchCV.\n",
    "- cvec converts a collection of text documents to a matrix of integer token counts to facilitate modelling of non-numerical features such as word features.\n",
    "- TfidfVectorizer (tvec) will be used to compare with cvec.\n",
    "- tvec converts a collection of raw documents to a matrix of TF-IDF features and does not provide integer token counts but a fraction - more on this later.\n",
    "- Logistic Regression will be compared with Naive Bayes Classifier and evaluated."
   ]
  },
  {
   "cell_type": "code",
   "execution_count": 55,
   "metadata": {},
   "outputs": [
    {
     "data": {
      "text/plain": [
       "(1359,)"
      ]
     },
     "execution_count": 55,
     "metadata": {},
     "output_type": "execute_result"
    }
   ],
   "source": [
    "X_train.shape #checking the shape of X_train to determine if potential errors might occur when passing it to a function due to incompatibility in shape of array"
   ]
  },
  {
   "cell_type": "code",
   "execution_count": 56,
   "metadata": {},
   "outputs": [],
   "source": [
    "cvec = CountVectorizer(stop_words=cust_stop_words) #instantiating cvec with customized stop words (\"wa\" being the additional stop word added).\n",
    "\n",
    "X_train_cvec = cvec.fit_transform(X_train).todense()\n",
    "X_train_cvec_df = pd.DataFrame(X_train_cvec, columns = cvec.get_feature_names())"
   ]
  },
  {
   "cell_type": "code",
   "execution_count": 57,
   "metadata": {},
   "outputs": [
    {
     "data": {
      "text/plain": [
       "(1359, 12124)"
      ]
     },
     "execution_count": 57,
     "metadata": {},
     "output_type": "execute_result"
    }
   ],
   "source": [
    "X_train_cvec_df.shape #checking out dimensions after splitting sentences per row to word feature columns."
   ]
  },
  {
   "cell_type": "code",
   "execution_count": 58,
   "metadata": {
    "scrolled": true
   },
   "outputs": [
    {
     "data": {
      "text/html": [
       "<div>\n",
       "<style scoped>\n",
       "    .dataframe tbody tr th:only-of-type {\n",
       "        vertical-align: middle;\n",
       "    }\n",
       "\n",
       "    .dataframe tbody tr th {\n",
       "        vertical-align: top;\n",
       "    }\n",
       "\n",
       "    .dataframe thead th {\n",
       "        text-align: right;\n",
       "    }\n",
       "</style>\n",
       "<table border=\"1\" class=\"dataframe\">\n",
       "  <thead>\n",
       "    <tr style=\"text-align: right;\">\n",
       "      <th></th>\n",
       "      <th>aa</th>\n",
       "      <th>aaa</th>\n",
       "      <th>aaaaaaaaaaagh</th>\n",
       "      <th>aaaaah</th>\n",
       "      <th>aaaah</th>\n",
       "      <th>aaaand</th>\n",
       "      <th>aaaannnnd</th>\n",
       "      <th>aaand</th>\n",
       "      <th>aab</th>\n",
       "      <th>aany</th>\n",
       "      <th>...</th>\n",
       "      <th>zillion</th>\n",
       "      <th>zinger</th>\n",
       "      <th>zip</th>\n",
       "      <th>zipper</th>\n",
       "      <th>zippo</th>\n",
       "      <th>zirconium</th>\n",
       "      <th>zone</th>\n",
       "      <th>zoned</th>\n",
       "      <th>zoning</th>\n",
       "      <th>zoo</th>\n",
       "    </tr>\n",
       "  </thead>\n",
       "  <tbody>\n",
       "    <tr>\n",
       "      <th>0</th>\n",
       "      <td>0</td>\n",
       "      <td>0</td>\n",
       "      <td>0</td>\n",
       "      <td>0</td>\n",
       "      <td>0</td>\n",
       "      <td>0</td>\n",
       "      <td>0</td>\n",
       "      <td>0</td>\n",
       "      <td>0</td>\n",
       "      <td>0</td>\n",
       "      <td>...</td>\n",
       "      <td>0</td>\n",
       "      <td>0</td>\n",
       "      <td>0</td>\n",
       "      <td>0</td>\n",
       "      <td>0</td>\n",
       "      <td>0</td>\n",
       "      <td>0</td>\n",
       "      <td>0</td>\n",
       "      <td>0</td>\n",
       "      <td>0</td>\n",
       "    </tr>\n",
       "    <tr>\n",
       "      <th>1</th>\n",
       "      <td>0</td>\n",
       "      <td>0</td>\n",
       "      <td>0</td>\n",
       "      <td>0</td>\n",
       "      <td>0</td>\n",
       "      <td>0</td>\n",
       "      <td>0</td>\n",
       "      <td>0</td>\n",
       "      <td>0</td>\n",
       "      <td>0</td>\n",
       "      <td>...</td>\n",
       "      <td>0</td>\n",
       "      <td>0</td>\n",
       "      <td>0</td>\n",
       "      <td>0</td>\n",
       "      <td>0</td>\n",
       "      <td>0</td>\n",
       "      <td>0</td>\n",
       "      <td>0</td>\n",
       "      <td>0</td>\n",
       "      <td>0</td>\n",
       "    </tr>\n",
       "    <tr>\n",
       "      <th>2</th>\n",
       "      <td>0</td>\n",
       "      <td>0</td>\n",
       "      <td>0</td>\n",
       "      <td>0</td>\n",
       "      <td>0</td>\n",
       "      <td>0</td>\n",
       "      <td>0</td>\n",
       "      <td>0</td>\n",
       "      <td>0</td>\n",
       "      <td>0</td>\n",
       "      <td>...</td>\n",
       "      <td>0</td>\n",
       "      <td>0</td>\n",
       "      <td>0</td>\n",
       "      <td>0</td>\n",
       "      <td>0</td>\n",
       "      <td>0</td>\n",
       "      <td>0</td>\n",
       "      <td>0</td>\n",
       "      <td>0</td>\n",
       "      <td>0</td>\n",
       "    </tr>\n",
       "    <tr>\n",
       "      <th>3</th>\n",
       "      <td>0</td>\n",
       "      <td>0</td>\n",
       "      <td>0</td>\n",
       "      <td>0</td>\n",
       "      <td>0</td>\n",
       "      <td>0</td>\n",
       "      <td>0</td>\n",
       "      <td>0</td>\n",
       "      <td>0</td>\n",
       "      <td>0</td>\n",
       "      <td>...</td>\n",
       "      <td>0</td>\n",
       "      <td>0</td>\n",
       "      <td>0</td>\n",
       "      <td>0</td>\n",
       "      <td>0</td>\n",
       "      <td>0</td>\n",
       "      <td>0</td>\n",
       "      <td>0</td>\n",
       "      <td>0</td>\n",
       "      <td>0</td>\n",
       "    </tr>\n",
       "    <tr>\n",
       "      <th>4</th>\n",
       "      <td>0</td>\n",
       "      <td>0</td>\n",
       "      <td>0</td>\n",
       "      <td>0</td>\n",
       "      <td>0</td>\n",
       "      <td>0</td>\n",
       "      <td>0</td>\n",
       "      <td>0</td>\n",
       "      <td>0</td>\n",
       "      <td>0</td>\n",
       "      <td>...</td>\n",
       "      <td>0</td>\n",
       "      <td>0</td>\n",
       "      <td>0</td>\n",
       "      <td>0</td>\n",
       "      <td>0</td>\n",
       "      <td>0</td>\n",
       "      <td>0</td>\n",
       "      <td>0</td>\n",
       "      <td>0</td>\n",
       "      <td>0</td>\n",
       "    </tr>\n",
       "  </tbody>\n",
       "</table>\n",
       "<p>5 rows × 12124 columns</p>\n",
       "</div>"
      ],
      "text/plain": [
       "   aa  aaa  aaaaaaaaaaagh  aaaaah  aaaah  aaaand  aaaannnnd  aaand  aab  aany  \\\n",
       "0   0    0              0       0      0       0          0      0    0     0   \n",
       "1   0    0              0       0      0       0          0      0    0     0   \n",
       "2   0    0              0       0      0       0          0      0    0     0   \n",
       "3   0    0              0       0      0       0          0      0    0     0   \n",
       "4   0    0              0       0      0       0          0      0    0     0   \n",
       "\n",
       "   ...  zillion  zinger  zip  zipper  zippo  zirconium  zone  zoned  zoning  \\\n",
       "0  ...        0       0    0       0      0          0     0      0       0   \n",
       "1  ...        0       0    0       0      0          0     0      0       0   \n",
       "2  ...        0       0    0       0      0          0     0      0       0   \n",
       "3  ...        0       0    0       0      0          0     0      0       0   \n",
       "4  ...        0       0    0       0      0          0     0      0       0   \n",
       "\n",
       "   zoo  \n",
       "0    0  \n",
       "1    0  \n",
       "2    0  \n",
       "3    0  \n",
       "4    0  \n",
       "\n",
       "[5 rows x 12124 columns]"
      ]
     },
     "execution_count": 58,
     "metadata": {},
     "output_type": "execute_result"
    }
   ],
   "source": [
    "X_train_cvec_df.head()"
   ]
  },
  {
   "cell_type": "code",
   "execution_count": 59,
   "metadata": {},
   "outputs": [
    {
     "data": {
      "text/plain": [
       "just        2548.0\n",
       "room        2249.0\n",
       "like        1636.0\n",
       "time        1508.0\n",
       "guest       1349.0\n",
       "             ...  \n",
       "mantuko        1.0\n",
       "manuever       1.0\n",
       "manyyyyy       1.0\n",
       "maple          1.0\n",
       "aa             1.0\n",
       "Name: Total, Length: 12124, dtype: float64"
      ]
     },
     "execution_count": 59,
     "metadata": {},
     "output_type": "execute_result"
    }
   ],
   "source": [
    "# find out how many times each word appear in the corpus by creating a 'Total' row at the end of the dataframe:\n",
    "X_train_cvec_df.loc['Total',:]= X_train_cvec_df.sum(axis=0)\n",
    "X_train_cvec_df.loc['Total',:].sort_values(ascending=False)"
   ]
  },
  {
   "cell_type": "markdown",
   "metadata": {},
   "source": [
    "I will create a DataFrame for the above Total Word Count, and then check, for each specified frequency (2, 10, 50, etc), what is the associated number of features (words) that appear in the corpus."
   ]
  },
  {
   "cell_type": "code",
   "execution_count": 60,
   "metadata": {},
   "outputs": [
    {
     "data": {
      "text/html": [
       "<div>\n",
       "<style scoped>\n",
       "    .dataframe tbody tr th:only-of-type {\n",
       "        vertical-align: middle;\n",
       "    }\n",
       "\n",
       "    .dataframe tbody tr th {\n",
       "        vertical-align: top;\n",
       "    }\n",
       "\n",
       "    .dataframe thead th {\n",
       "        text-align: right;\n",
       "    }\n",
       "</style>\n",
       "<table border=\"1\" class=\"dataframe\">\n",
       "  <thead>\n",
       "    <tr style=\"text-align: right;\">\n",
       "      <th></th>\n",
       "      <th>Total</th>\n",
       "    </tr>\n",
       "  </thead>\n",
       "  <tbody>\n",
       "    <tr>\n",
       "      <th>just</th>\n",
       "      <td>2548.0</td>\n",
       "    </tr>\n",
       "    <tr>\n",
       "      <th>room</th>\n",
       "      <td>2249.0</td>\n",
       "    </tr>\n",
       "    <tr>\n",
       "      <th>like</th>\n",
       "      <td>1636.0</td>\n",
       "    </tr>\n",
       "    <tr>\n",
       "      <th>time</th>\n",
       "      <td>1508.0</td>\n",
       "    </tr>\n",
       "    <tr>\n",
       "      <th>guest</th>\n",
       "      <td>1349.0</td>\n",
       "    </tr>\n",
       "  </tbody>\n",
       "</table>\n",
       "</div>"
      ],
      "text/plain": [
       "        Total\n",
       "just   2548.0\n",
       "room   2249.0\n",
       "like   1636.0\n",
       "time   1508.0\n",
       "guest  1349.0"
      ]
     },
     "execution_count": 60,
     "metadata": {},
     "output_type": "execute_result"
    }
   ],
   "source": [
    "Xtrain_total_CVEC = pd.DataFrame(X_train_cvec_df.loc['Total',:].sort_values(ascending=False))\n",
    "Xtrain_total_CVEC.head()"
   ]
  },
  {
   "cell_type": "code",
   "execution_count": 61,
   "metadata": {},
   "outputs": [
    {
     "name": "stdout",
     "output_type": "stream",
     "text": [
      "6664\n",
      "9830\n",
      "11407\n",
      "11764\n",
      "11953\n",
      "12076\n",
      "12109\n",
      "12120\n",
      "12122\n",
      "12123\n",
      "12124\n"
     ]
    }
   ],
   "source": [
    "print(len(Xtrain_total_CVEC.loc[Xtrain_total_CVEC['Total'] <= 2]))\n",
    "print(len(Xtrain_total_CVEC.loc[Xtrain_total_CVEC['Total'] <= 10]))\n",
    "print(len(Xtrain_total_CVEC.loc[Xtrain_total_CVEC['Total'] <= 50]))\n",
    "print(len(Xtrain_total_CVEC.loc[Xtrain_total_CVEC['Total'] <= 100]))\n",
    "print(len(Xtrain_total_CVEC.loc[Xtrain_total_CVEC['Total'] <= 200]))\n",
    "print(len(Xtrain_total_CVEC.loc[Xtrain_total_CVEC['Total'] <= 500]))\n",
    "print(len(Xtrain_total_CVEC.loc[Xtrain_total_CVEC['Total'] <= 1000]))\n",
    "print(len(Xtrain_total_CVEC.loc[Xtrain_total_CVEC['Total'] <= 1500]))\n",
    "print(len(Xtrain_total_CVEC.loc[Xtrain_total_CVEC['Total'] <= 2000]))\n",
    "print(len(Xtrain_total_CVEC.loc[Xtrain_total_CVEC['Total'] <= 2250]))\n",
    "print(len(Xtrain_total_CVEC.loc[Xtrain_total_CVEC['Total'] <= 3000]))"
   ]
  },
  {
   "cell_type": "code",
   "execution_count": 62,
   "metadata": {},
   "outputs": [
    {
     "data": {
      "image/png": "[encoded data removed]",
      "text/plain": [
       "<Figure size 432x288 with 1 Axes>"
      ]
     },
     "metadata": {
      "image/png": {
       "height": 263,
       "width": 419
      },
      "needs_background": "light"
     },
     "output_type": "display_data"
    }
   ],
   "source": [
    "# plot histogram to observe the distribution\n",
    "\n",
    "Xtrain_total_CVEC[Xtrain_total_CVEC.Total > 1200].plot(kind='bar');"
   ]
  },
  {
   "cell_type": "code",
   "execution_count": 63,
   "metadata": {},
   "outputs": [
    {
     "data": {
      "image/png": "[encoded data removed]",
      "text/plain": [
       "<Figure size 432x288 with 1 Axes>"
      ]
     },
     "metadata": {
      "image/png": {
       "height": 280,
       "width": 419
      },
      "needs_background": "light"
     },
     "output_type": "display_data"
    }
   ],
   "source": [
    "Xtrain_total_CVEC[Xtrain_total_CVEC.Total > 600].plot(kind='bar'); #setting a lower threshold to see more features.."
   ]
  },
  {
   "cell_type": "code",
   "execution_count": 64,
   "metadata": {},
   "outputs": [
    {
     "data": {
      "text/plain": [
       "36"
      ]
     },
     "execution_count": 64,
     "metadata": {},
     "output_type": "execute_result"
    }
   ],
   "source": [
    "len(Xtrain_total_CVEC[Xtrain_total_CVEC.Total > 600])"
   ]
  },
  {
   "cell_type": "markdown",
   "metadata": {},
   "source": [
    "Using these information, I will run a GridSearchCV with Logistic Regression (one of the more commonly used classifiers that is modified from Linear Regression by converting the continuous y target to a natural logarithm of odds of success for ```TalesFromYourServer``` in this case) and tune the hyperparameters accordingly to optimize the model. Logistic Regression will be evaluated as a classifier as the outcome is binary and the model is interpretable by taking the exponential of each word feature (predictor)'s coefficient to make sense of the number of times as likely that a post comes from class 1 (server tales) over class 0 (frontdesk tales). It is also efficient and by far, the most common classification algorithm. "
   ]
  },
  {
   "cell_type": "code",
   "execution_count": 65,
   "metadata": {},
   "outputs": [],
   "source": [
    "pipe = Pipeline([\n",
    "    (\"cvec\", CountVectorizer(stop_words = cust_stop_words)), #creating the pipeline with cvec and lr\n",
    "    (\"lr\", LogisticRegression())\n",
    "    ])"
   ]
  },
  {
   "cell_type": "code",
   "execution_count": 66,
   "metadata": {},
   "outputs": [
    {
     "name": "stdout",
     "output_type": "stream",
     "text": [
      "Fitting 10 folds for each of 120 candidates, totalling 1200 fits\n"
     ]
    },
    {
     "name": "stderr",
     "output_type": "stream",
     "text": [
      "[Parallel(n_jobs=-1)]: Using backend LokyBackend with 8 concurrent workers.\n",
      "[Parallel(n_jobs=-1)]: Done  34 tasks      | elapsed:    5.6s\n",
      "[Parallel(n_jobs=-1)]: Done 184 tasks      | elapsed:   21.2s\n",
      "[Parallel(n_jobs=-1)]: Done 434 tasks      | elapsed:   47.8s\n",
      "[Parallel(n_jobs=-1)]: Done 784 tasks      | elapsed:  1.4min\n",
      "[Parallel(n_jobs=-1)]: Done 1200 out of 1200 | elapsed:  2.2min finished\n"
     ]
    },
    {
     "data": {
      "text/plain": [
       "GridSearchCV(cv=10, error_score=nan,\n",
       "             estimator=Pipeline(memory=None,\n",
       "                                steps=[('cvec',\n",
       "                                        CountVectorizer(analyzer='word',\n",
       "                                                        binary=False,\n",
       "                                                        decode_error='strict',\n",
       "                                                        dtype=<class 'numpy.int64'>,\n",
       "                                                        encoding='utf-8',\n",
       "                                                        input='content',\n",
       "                                                        lowercase=True,\n",
       "                                                        max_df=1.0,\n",
       "                                                        max_features=None,\n",
       "                                                        min_df=1,\n",
       "                                                        ngram_range=(1, 1),\n",
       "                                                        preprocessor=None,\n",
       "                                                        stop_words=['only',\n",
       "                                                                    'bottom',\n",
       "                                                                    'itself',\n",
       "                                                                    'out',\n",
       "                                                                    'than',\n",
       "                                                                    'to...\n",
       "                                                           penalty='l2',\n",
       "                                                           random_state=None,\n",
       "                                                           solver='lbfgs',\n",
       "                                                           tol=0.0001,\n",
       "                                                           verbose=0,\n",
       "                                                           warm_start=False))],\n",
       "                                verbose=False),\n",
       "             iid='deprecated', n_jobs=-1,\n",
       "             param_grid={'cvec__max_df': [0.2, 0.25, 0.3, 0.35, 0.4],\n",
       "                         'cvec__max_features': [20, 30, 50, 80],\n",
       "                         'cvec__min_df': [2, 3, 4],\n",
       "                         'cvec__ngram_range': [(1, 1), (1, 2)]},\n",
       "             pre_dispatch='2*n_jobs', refit=True, return_train_score=False,\n",
       "             scoring=None, verbose=1)"
      ]
     },
     "execution_count": 66,
     "metadata": {},
     "output_type": "execute_result"
    }
   ],
   "source": [
    "pipe_params = {                                  #providing search space for cvec's hyperparameters\n",
    "    'cvec__max_features': [20, 30, 50, 80],\n",
    "    'cvec__min_df': [2, 3, 4],\n",
    "    'cvec__max_df': [.2, .25, .3, .35, .4],\n",
    "    'cvec__ngram_range': [(1,1), (1,2)]\n",
    "}\n",
    "gs = GridSearchCV(pipe, param_grid=pipe_params, cv=10, n_jobs = -1, verbose = 1)\n",
    "gs.fit(X_train, y_train)"
   ]
  },
  {
   "cell_type": "code",
   "execution_count": 67,
   "metadata": {},
   "outputs": [
    {
     "name": "stdout",
     "output_type": "stream",
     "text": [
      "0.962467320261438\n"
     ]
    },
    {
     "data": {
      "text/plain": [
       "{'cvec__max_df': 0.4,\n",
       " 'cvec__max_features': 30,\n",
       " 'cvec__min_df': 2,\n",
       " 'cvec__ngram_range': (1, 1)}"
      ]
     },
     "execution_count": 67,
     "metadata": {},
     "output_type": "execute_result"
    }
   ],
   "source": [
    "print(gs.best_score_)\n",
    "gs.best_params_"
   ]
  },
  {
   "cell_type": "code",
   "execution_count": 68,
   "metadata": {},
   "outputs": [
    {
     "data": {
      "text/plain": [
       "Pipeline(memory=None,\n",
       "         steps=[('cvec',\n",
       "                 CountVectorizer(analyzer='word', binary=False,\n",
       "                                 decode_error='strict',\n",
       "                                 dtype=<class 'numpy.int64'>, encoding='utf-8',\n",
       "                                 input='content', lowercase=True, max_df=0.4,\n",
       "                                 max_features=30, min_df=2, ngram_range=(1, 1),\n",
       "                                 preprocessor=None,\n",
       "                                 stop_words=['only', 'bottom', 'itself', 'out',\n",
       "                                             'than', 'too', 'within', 'being',\n",
       "                                             'serious', 'she', 'that', 'dow...\n",
       "                                             'something', 'hereupon', 'nor', ...],\n",
       "                                 strip_accents=None,\n",
       "                                 token_pattern='(?u)\\\\b\\\\w\\\\w+\\\\b',\n",
       "                                 tokenizer=None, vocabulary=None)),\n",
       "                ('lr',\n",
       "                 LogisticRegression(C=1.0, class_weight=None, dual=False,\n",
       "                                    fit_intercept=True, intercept_scaling=1,\n",
       "                                    l1_ratio=None, max_iter=100,\n",
       "                                    multi_class='auto', n_jobs=None,\n",
       "                                    penalty='l2', random_state=None,\n",
       "                                    solver='lbfgs', tol=0.0001, verbose=0,\n",
       "                                    warm_start=False))],\n",
       "         verbose=False)"
      ]
     },
     "execution_count": 68,
     "metadata": {},
     "output_type": "execute_result"
    }
   ],
   "source": [
    "gs.best_estimator_"
   ]
  },
  {
   "cell_type": "markdown",
   "metadata": {},
   "source": [
    "### Which evaluation metric should I use?\n",
    "- In this case, it probably doesn't really matter - incorrectly mistaking a ```TalesFromTheFrontDesk``` post for a ```TalesFromYourServer``` post doesn't seem much better or worse than incorrectly mistaking a ```TalesFromYourServer``` post for a ```TalesFromTheFrontDesk``` post. Because I believe false positives and false negatives are equally as bad, and the classes (```TalesFromYourServer``` and ```TalesFromTheFrontDesk```) are rather balanced as shown earlier above with class 1 corresponding to a representation of 52% while class 0 having a representation of 48%, I'd probably use accuracy score. Alternatively, we can also assess the roc_auc, confusion matrix, and classification report to examine other classification metrics such as sensitivity (recall), precision, and f1-score for a comprehensive assessment too. Some of these metrics will be examined below in the interpretation section."
   ]
  },
  {
   "cell_type": "code",
   "execution_count": 69,
   "metadata": {},
   "outputs": [
    {
     "data": {
      "text/plain": [
       "0.9698307579102281"
      ]
     },
     "execution_count": 69,
     "metadata": {},
     "output_type": "execute_result"
    }
   ],
   "source": [
    "gs.score(X_train, y_train)   #scoring tuned model on train set"
   ]
  },
  {
   "cell_type": "code",
   "execution_count": 70,
   "metadata": {},
   "outputs": [
    {
     "data": {
      "text/plain": [
       "0.9271523178807947"
      ]
     },
     "execution_count": 70,
     "metadata": {},
     "output_type": "execute_result"
    }
   ],
   "source": [
    "gs.score(X_test, y_test) #scoring tuned model on test set"
   ]
  },
  {
   "cell_type": "markdown",
   "metadata": {},
   "source": [
    "Score is very high with some variance as shown from the difference in accuracy scores between the train and test sets... and it has definitely outperformed the baseline accuracy of 0.52 highlighted earlier above. However, let's try to tune the hyperparameters further to see if the score can be further improved:"
   ]
  },
  {
   "cell_type": "code",
   "execution_count": 71,
   "metadata": {},
   "outputs": [
    {
     "name": "stdout",
     "output_type": "stream",
     "text": [
      "Fitting 10 folds for each of 80 candidates, totalling 800 fits\n"
     ]
    },
    {
     "name": "stderr",
     "output_type": "stream",
     "text": [
      "[Parallel(n_jobs=-1)]: Using backend LokyBackend with 8 concurrent workers.\n",
      "[Parallel(n_jobs=-1)]: Done  34 tasks      | elapsed:    4.0s\n",
      "[Parallel(n_jobs=-1)]: Done 184 tasks      | elapsed:   20.0s\n",
      "[Parallel(n_jobs=-1)]: Done 434 tasks      | elapsed:   48.3s\n",
      "[Parallel(n_jobs=-1)]: Done 784 tasks      | elapsed:  1.4min\n",
      "[Parallel(n_jobs=-1)]: Done 800 out of 800 | elapsed:  1.5min finished\n"
     ]
    },
    {
     "data": {
      "text/plain": [
       "GridSearchCV(cv=10, error_score=nan,\n",
       "             estimator=Pipeline(memory=None,\n",
       "                                steps=[('cvec',\n",
       "                                        CountVectorizer(analyzer='word',\n",
       "                                                        binary=False,\n",
       "                                                        decode_error='strict',\n",
       "                                                        dtype=<class 'numpy.int64'>,\n",
       "                                                        encoding='utf-8',\n",
       "                                                        input='content',\n",
       "                                                        lowercase=True,\n",
       "                                                        max_df=1.0,\n",
       "                                                        max_features=None,\n",
       "                                                        min_df=1,\n",
       "                                                        ngram_range=(1, 1),\n",
       "                                                        preprocessor=None,\n",
       "                                                        stop_words=['only',\n",
       "                                                                    'bottom',\n",
       "                                                                    'itself',\n",
       "                                                                    'out',\n",
       "                                                                    'than',\n",
       "                                                                    'to...\n",
       "                                                           penalty='l2',\n",
       "                                                           random_state=None,\n",
       "                                                           solver='lbfgs',\n",
       "                                                           tol=0.0001,\n",
       "                                                           verbose=0,\n",
       "                                                           warm_start=False))],\n",
       "                                verbose=False),\n",
       "             iid='deprecated', n_jobs=-1,\n",
       "             param_grid={'cvec__max_df': [0.2, 0.25, 0.5, 0.8, 0.9],\n",
       "                         'cvec__max_features': [100, 150, 200, 250],\n",
       "                         'cvec__min_df': [2, 3],\n",
       "                         'cvec__ngram_range': [(1, 1), (1, 2)]},\n",
       "             pre_dispatch='2*n_jobs', refit=True, return_train_score=False,\n",
       "             scoring=None, verbose=1)"
      ]
     },
     "execution_count": 71,
     "metadata": {},
     "output_type": "execute_result"
    }
   ],
   "source": [
    "pipe_params = {                                   #enlarging search space for cvec's hyperparameters\n",
    "    'cvec__max_features': [100, 150, 200, 250],\n",
    "    'cvec__min_df': [2, 3],\n",
    "    'cvec__max_df': [.2, .25, .5, .8, .9],\n",
    "    'cvec__ngram_range': [(1,1), (1,2)]\n",
    "}\n",
    "gs = GridSearchCV(pipe, param_grid=pipe_params, cv=10, n_jobs = -1, verbose = 1)\n",
    "gs.fit(X_train, y_train)"
   ]
  },
  {
   "cell_type": "code",
   "execution_count": 72,
   "metadata": {},
   "outputs": [
    {
     "name": "stdout",
     "output_type": "stream",
     "text": [
      "0.9624891067538126\n"
     ]
    },
    {
     "data": {
      "text/plain": [
       "{'cvec__max_df': 0.8,\n",
       " 'cvec__max_features': 150,\n",
       " 'cvec__min_df': 3,\n",
       " 'cvec__ngram_range': (1, 1)}"
      ]
     },
     "execution_count": 72,
     "metadata": {},
     "output_type": "execute_result"
    }
   ],
   "source": [
    "print(gs.best_score_)\n",
    "gs.best_params_"
   ]
  },
  {
   "cell_type": "code",
   "execution_count": 73,
   "metadata": {},
   "outputs": [
    {
     "name": "stdout",
     "output_type": "stream",
     "text": [
      "0.9896983075791023\n",
      "0.9381898454746137\n"
     ]
    }
   ],
   "source": [
    "print(gs.score(X_train, y_train))    ##scoring tuned model on train set and test set\n",
    "print(gs.score(X_test, y_test))"
   ]
  },
  {
   "cell_type": "markdown",
   "metadata": {},
   "source": [
    "- Scores remain on the high side, although it seems slightly more overfit than before as the score on the test is ~0.05 lower. However, the difference is not practically significant to raise a concern, it looks more or less optimized still. \n",
    "- Let's look at ```TfidfVectorizer``` now as it provides more information about the words in the posts in terms of their discriminating power, other than mere word counts, and determine how that affects the accuracy score. Formula for tf-idf is shown below.\n",
    "\n",
    "**Let's see how it's calculated:**\n",
    "\n",
    "Term frequency (`tf`) is the frequency of a certain term in a document:\n",
    "\n",
    "$$\n",
    "\\mathrm{tf}(t,d) = \\frac{N_\\text{term}}{N_\\text{terms in Document}}\n",
    "$$\n",
    "\n",
    "where\n",
    "\n",
    "- $N_\\text{term}$ is the number of times a term/word $t$ appears in document $d$\n",
    "- $N_\\text{terms in Document}$ is the number of terms/words in document $d$\n",
    "\n",
    "Inverse document frequency (`idf`) is defined as the frequency of documents that contain that term over the whole corpus:\n",
    "\n",
    "$$\n",
    "\\mathrm{idf}(t, D) = \\log\\frac{N_\\text{Documents}}{N_\\text{Documents that contain term}}\n",
    "$$\n",
    "\n",
    "where\n",
    "\n",
    "- $N_\\text{Documents}$ is the number of documents in the corpus $D$\n",
    "- $N_\\text{Documents that contain term}$ is the number of documents in $D$ that contain term/word $t$\n",
    "\n",
    "TF-IDF is then calculated as:\n",
    "\n",
    "$$\n",
    "\\mathrm{tfidf}(t,d,D) = \\mathrm{tf}(t,d) \\cdot \\mathrm{idf}(t, D)\n",
    "$$\n",
    "\n",
    "- Once again, start with a naive model, then explore and tune hyperparameters accordingly."
   ]
  },
  {
   "cell_type": "code",
   "execution_count": 74,
   "metadata": {},
   "outputs": [
    {
     "data": {
      "text/plain": [
       "(1359, 12124)"
      ]
     },
     "execution_count": 74,
     "metadata": {},
     "output_type": "execute_result"
    }
   ],
   "source": [
    "tvec_naive = TfidfVectorizer(stop_words = cust_stop_words)  #instantiating TfidfVectorizer with customized stop words\n",
    "\n",
    "X_train_tvec_naive = tvec_naive.fit_transform(X_train).todense()   #fitting tvec and transforming X_train\n",
    "X_train_tvec_naive_df = pd.DataFrame(X_train_tvec_naive, columns = tvec_naive.get_feature_names())  #converting it into a dataframe for easy lookup.\n",
    "X_train_tvec_naive_df.shape #checking how array's dimension has changed with the vectorization."
   ]
  },
  {
   "cell_type": "code",
   "execution_count": 75,
   "metadata": {},
   "outputs": [
    {
     "data": {
      "text/plain": [
       "room           54.749208\n",
       "just           51.716880\n",
       "table          38.650937\n",
       "like           38.529685\n",
       "guest          37.400741\n",
       "                 ...    \n",
       "antianxiety     0.027526\n",
       "pill            0.027526\n",
       "colouring       0.027526\n",
       "freebie         0.027526\n",
       "perked          0.027526\n",
       "Name: Total, Length: 12124, dtype: float64"
      ]
     },
     "execution_count": 75,
     "metadata": {},
     "output_type": "execute_result"
    }
   ],
   "source": [
    "X_train_tvec_naive_df.loc['Total',:]= X_train_tvec_naive_df.sum(axis=0) #summing up the frequency of occurrence for each word feature column and storing it in a new row at the bottom for each word column.\n",
    "X_train_tvec_naive_df.loc['Total',:].sort_values(ascending=False) #it appears that the word, 'table', is among the top 5 features with high discriminating power"
   ]
  },
  {
   "cell_type": "code",
   "execution_count": 76,
   "metadata": {},
   "outputs": [
    {
     "data": {
      "text/html": [
       "<div>\n",
       "<style scoped>\n",
       "    .dataframe tbody tr th:only-of-type {\n",
       "        vertical-align: middle;\n",
       "    }\n",
       "\n",
       "    .dataframe tbody tr th {\n",
       "        vertical-align: top;\n",
       "    }\n",
       "\n",
       "    .dataframe thead th {\n",
       "        text-align: right;\n",
       "    }\n",
       "</style>\n",
       "<table border=\"1\" class=\"dataframe\">\n",
       "  <thead>\n",
       "    <tr style=\"text-align: right;\">\n",
       "      <th></th>\n",
       "      <th>Total</th>\n",
       "    </tr>\n",
       "  </thead>\n",
       "  <tbody>\n",
       "    <tr>\n",
       "      <th>room</th>\n",
       "      <td>54.749208</td>\n",
       "    </tr>\n",
       "    <tr>\n",
       "      <th>just</th>\n",
       "      <td>51.716880</td>\n",
       "    </tr>\n",
       "    <tr>\n",
       "      <th>table</th>\n",
       "      <td>38.650937</td>\n",
       "    </tr>\n",
       "    <tr>\n",
       "      <th>like</th>\n",
       "      <td>38.529685</td>\n",
       "    </tr>\n",
       "    <tr>\n",
       "      <th>guest</th>\n",
       "      <td>37.400741</td>\n",
       "    </tr>\n",
       "  </tbody>\n",
       "</table>\n",
       "</div>"
      ],
      "text/plain": [
       "           Total\n",
       "room   54.749208\n",
       "just   51.716880\n",
       "table  38.650937\n",
       "like   38.529685\n",
       "guest  37.400741"
      ]
     },
     "execution_count": 76,
     "metadata": {},
     "output_type": "execute_result"
    }
   ],
   "source": [
    "Xtrain_total_TVEC_naive = pd.DataFrame(X_train_tvec_naive_df.loc['Total',:].sort_values(ascending=False))  #converting the above into a dataframe for easy viewing.\n",
    "Xtrain_total_TVEC_naive.head()"
   ]
  },
  {
   "cell_type": "code",
   "execution_count": 77,
   "metadata": {},
   "outputs": [
    {
     "name": "stdout",
     "output_type": "stream",
     "text": [
      "10066\n",
      "11694\n",
      "11978\n",
      "12082\n",
      "12122\n",
      "12124\n"
     ]
    }
   ],
   "source": [
    "print(len(Xtrain_total_TVEC_naive.loc[Xtrain_total_TVEC_naive['Total'] <= 1]))  #checking for each of the following frequency, what is the associated number of features in the corpus based in tfidf.\n",
    "print(len(Xtrain_total_TVEC_naive.loc[Xtrain_total_TVEC_naive['Total'] <= 5]))\n",
    "print(len(Xtrain_total_TVEC_naive.loc[Xtrain_total_TVEC_naive['Total'] <= 10]))\n",
    "print(len(Xtrain_total_TVEC_naive.loc[Xtrain_total_TVEC_naive['Total'] <= 20]))\n",
    "print(len(Xtrain_total_TVEC_naive.loc[Xtrain_total_TVEC_naive['Total'] <= 50]))\n",
    "print(len(Xtrain_total_TVEC_naive.loc[Xtrain_total_TVEC_naive['Total'] <= 80]))"
   ]
  },
  {
   "cell_type": "code",
   "execution_count": 78,
   "metadata": {},
   "outputs": [
    {
     "data": {
      "image/png": "[encoded data removed]",
      "text/plain": [
       "<Figure size 432x288 with 1 Axes>"
      ]
     },
     "metadata": {
      "image/png": {
       "height": 280,
       "width": 406
      },
      "needs_background": "light"
     },
     "output_type": "display_data"
    }
   ],
   "source": [
    "Xtrain_total_TVEC_naive[Xtrain_total_TVEC_naive.Total > 30].plot(kind='bar'); #plotting it to visually explore the data"
   ]
  },
  {
   "cell_type": "code",
   "execution_count": 79,
   "metadata": {},
   "outputs": [
    {
     "data": {
      "text/plain": [
       "15"
      ]
     },
     "execution_count": 79,
     "metadata": {},
     "output_type": "execute_result"
    }
   ],
   "source": [
    "len(Xtrain_total_TVEC_naive[Xtrain_total_TVEC_naive.Total > 30]) #15 features with tfidf more than 50"
   ]
  },
  {
   "cell_type": "code",
   "execution_count": 80,
   "metadata": {},
   "outputs": [
    {
     "data": {
      "image/png": "[encoded data removed]",
      "text/plain": [
       "<Figure size 432x288 with 1 Axes>"
      ]
     },
     "metadata": {
      "image/png": {
       "height": 288,
       "width": 406
      },
      "needs_background": "light"
     },
     "output_type": "display_data"
    }
   ],
   "source": [
    "Xtrain_total_TVEC_naive[Xtrain_total_TVEC_naive.Total > 20].plot(kind='bar');  #more features showed up that have more than 30 for tfidf."
   ]
  },
  {
   "cell_type": "code",
   "execution_count": 81,
   "metadata": {},
   "outputs": [
    {
     "data": {
      "text/plain": [
       "42"
      ]
     },
     "execution_count": 81,
     "metadata": {},
     "output_type": "execute_result"
    }
   ],
   "source": [
    "len(Xtrain_total_TVEC_naive[Xtrain_total_TVEC_naive.Total > 20]) #features when their tfidf is more than 30"
   ]
  },
  {
   "cell_type": "markdown",
   "metadata": {},
   "source": [
    "- Tune TVEC hyperparameters upon EDA:"
   ]
  },
  {
   "cell_type": "code",
   "execution_count": 82,
   "metadata": {},
   "outputs": [
    {
     "name": "stdout",
     "output_type": "stream",
     "text": [
      "Fitting 10 folds for each of 90 candidates, totalling 900 fits\n"
     ]
    },
    {
     "name": "stderr",
     "output_type": "stream",
     "text": [
      "[Parallel(n_jobs=-1)]: Using backend LokyBackend with 8 concurrent workers.\n",
      "[Parallel(n_jobs=-1)]: Done  34 tasks      | elapsed:    4.0s\n",
      "[Parallel(n_jobs=-1)]: Done 184 tasks      | elapsed:   19.4s\n",
      "[Parallel(n_jobs=-1)]: Done 434 tasks      | elapsed:   46.5s\n",
      "[Parallel(n_jobs=-1)]: Done 784 tasks      | elapsed:  1.4min\n",
      "[Parallel(n_jobs=-1)]: Done 900 out of 900 | elapsed:  1.6min finished\n"
     ]
    },
    {
     "data": {
      "text/plain": [
       "GridSearchCV(cv=10, error_score=nan,\n",
       "             estimator=Pipeline(memory=None,\n",
       "                                steps=[('tvec',\n",
       "                                        TfidfVectorizer(analyzer='word',\n",
       "                                                        binary=False,\n",
       "                                                        decode_error='strict',\n",
       "                                                        dtype=<class 'numpy.float64'>,\n",
       "                                                        encoding='utf-8',\n",
       "                                                        input='content',\n",
       "                                                        lowercase=True,\n",
       "                                                        max_df=1.0,\n",
       "                                                        max_features=None,\n",
       "                                                        min_df=1,\n",
       "                                                        ngram_range=(1, 1),\n",
       "                                                        norm='l2',\n",
       "                                                        preprocessor=None,\n",
       "                                                        smooth_idf=True,\n",
       "                                                        stop_words=['only',\n",
       "                                                                    'botto...\n",
       "                                                           penalty='l2',\n",
       "                                                           random_state=None,\n",
       "                                                           solver='lbfgs',\n",
       "                                                           tol=0.0001,\n",
       "                                                           verbose=0,\n",
       "                                                           warm_start=False))],\n",
       "                                verbose=False),\n",
       "             iid='deprecated', n_jobs=-1,\n",
       "             param_grid={'tvec__max_df': [0.2, 0.25, 0.3, 0.35, 0.4],\n",
       "                         'tvec__max_features': [30, 60, 90],\n",
       "                         'tvec__min_df': [2, 3, 4],\n",
       "                         'tvec__ngram_range': [(1, 1), (1, 2)]},\n",
       "             pre_dispatch='2*n_jobs', refit=True, return_train_score=False,\n",
       "             scoring=None, verbose=1)"
      ]
     },
     "execution_count": 82,
     "metadata": {},
     "output_type": "execute_result"
    }
   ],
   "source": [
    "pipe2 = Pipeline([\n",
    "    (\"tvec\", TfidfVectorizer(stop_words = cust_stop_words)),         #setting up pipeline containing the vectorizer and estimator\n",
    "    (\"lr\", LogisticRegression())\n",
    "])\n",
    "\n",
    "pipe_params = {\n",
    "'tvec__max_features': [30, 60, 90],                   #providing a hyperparameter search space.\n",
    "'tvec__min_df': [2, 3, 4],\n",
    "'tvec__max_df': [.2, .25, .3, .35, .4],\n",
    "'tvec__ngram_range': [(1,1), (1,2)]\n",
    "}\n",
    "gs = GridSearchCV(pipe2, param_grid=pipe_params, cv=10, n_jobs = -1, verbose = 1)\n",
    "gs.fit(X_train, y_train)     #training the model"
   ]
  },
  {
   "cell_type": "code",
   "execution_count": 83,
   "metadata": {},
   "outputs": [
    {
     "name": "stdout",
     "output_type": "stream",
     "text": [
      "0.963202614379085\n"
     ]
    },
    {
     "data": {
      "text/plain": [
       "{'tvec__max_df': 0.4,\n",
       " 'tvec__max_features': 90,\n",
       " 'tvec__min_df': 2,\n",
       " 'tvec__ngram_range': (1, 1)}"
      ]
     },
     "execution_count": 83,
     "metadata": {},
     "output_type": "execute_result"
    }
   ],
   "source": [
    "print(gs.best_score_)\n",
    "gs.best_params_"
   ]
  },
  {
   "cell_type": "code",
   "execution_count": 84,
   "metadata": {},
   "outputs": [
    {
     "name": "stdout",
     "output_type": "stream",
     "text": [
      "0.9713024282560706\n",
      "0.9359823399558499\n"
     ]
    }
   ],
   "source": [
    "print(gs.score(X_train, y_train))   #scoring tuned model on both train and test sets to get a sense of its bias and variance.\n",
    "print(gs.score(X_test, y_test))"
   ]
  },
  {
   "cell_type": "code",
   "execution_count": 85,
   "metadata": {},
   "outputs": [
    {
     "name": "stdout",
     "output_type": "stream",
     "text": [
      "Fitting 10 folds for each of 112 candidates, totalling 1120 fits\n"
     ]
    },
    {
     "name": "stderr",
     "output_type": "stream",
     "text": [
      "[Parallel(n_jobs=-1)]: Using backend LokyBackend with 8 concurrent workers.\n",
      "[Parallel(n_jobs=-1)]: Done  34 tasks      | elapsed:    3.9s\n",
      "[Parallel(n_jobs=-1)]: Done 184 tasks      | elapsed:   19.1s\n",
      "[Parallel(n_jobs=-1)]: Done 434 tasks      | elapsed:   45.5s\n",
      "[Parallel(n_jobs=-1)]: Done 784 tasks      | elapsed:  1.4min\n",
      "[Parallel(n_jobs=-1)]: Done 1120 out of 1120 | elapsed:  2.0min finished\n"
     ]
    },
    {
     "data": {
      "text/plain": [
       "GridSearchCV(cv=10, error_score=nan,\n",
       "             estimator=Pipeline(memory=None,\n",
       "                                steps=[('tvec',\n",
       "                                        TfidfVectorizer(analyzer='word',\n",
       "                                                        binary=False,\n",
       "                                                        decode_error='strict',\n",
       "                                                        dtype=<class 'numpy.float64'>,\n",
       "                                                        encoding='utf-8',\n",
       "                                                        input='content',\n",
       "                                                        lowercase=True,\n",
       "                                                        max_df=1.0,\n",
       "                                                        max_features=None,\n",
       "                                                        min_df=1,\n",
       "                                                        ngram_range=(1, 1),\n",
       "                                                        norm='l2',\n",
       "                                                        preprocessor=None,\n",
       "                                                        smooth_idf=True,\n",
       "                                                        stop_words=['only',\n",
       "                                                                    'botto...\n",
       "                                                           random_state=None,\n",
       "                                                           solver='lbfgs',\n",
       "                                                           tol=0.0001,\n",
       "                                                           verbose=0,\n",
       "                                                           warm_start=False))],\n",
       "                                verbose=False),\n",
       "             iid='deprecated', n_jobs=-1,\n",
       "             param_grid={'tvec__max_df': [0.2, 0.25, 0.3, 0.4, 0.5, 0.8, 0.95],\n",
       "                         'tvec__max_features': [100, 150, 200, 250],\n",
       "                         'tvec__min_df': [2, 3],\n",
       "                         'tvec__ngram_range': [(1, 1), (1, 2)]},\n",
       "             pre_dispatch='2*n_jobs', refit=True, return_train_score=False,\n",
       "             scoring=None, verbose=1)"
      ]
     },
     "execution_count": 85,
     "metadata": {},
     "output_type": "execute_result"
    }
   ],
   "source": [
    "# further tuning to get better scores:\n",
    "\n",
    "pipe_params = {\n",
    "    'tvec__max_features': [100, 150, 200, 250],\n",
    "    'tvec__min_df': [2, 3],\n",
    "    'tvec__max_df': [.2, .25, .3, .4, .5, .8, .95],\n",
    "    'tvec__ngram_range': [(1,1), (1,2)]\n",
    "}\n",
    "gs = GridSearchCV(pipe2, param_grid=pipe_params, cv=10, n_jobs = -1, verbose = 1)\n",
    "gs.fit(X_train, y_train)"
   ]
  },
  {
   "cell_type": "code",
   "execution_count": 86,
   "metadata": {},
   "outputs": [
    {
     "name": "stdout",
     "output_type": "stream",
     "text": [
      "0.967619825708061\n"
     ]
    },
    {
     "data": {
      "text/plain": [
       "{'tvec__max_df': 0.5,\n",
       " 'tvec__max_features': 250,\n",
       " 'tvec__min_df': 2,\n",
       " 'tvec__ngram_range': (1, 2)}"
      ]
     },
     "execution_count": 86,
     "metadata": {},
     "output_type": "execute_result"
    }
   ],
   "source": [
    "print(gs.best_score_)\n",
    "gs.best_params_"
   ]
  },
  {
   "cell_type": "code",
   "execution_count": 87,
   "metadata": {},
   "outputs": [
    {
     "name": "stdout",
     "output_type": "stream",
     "text": [
      "0.9801324503311258\n",
      "0.9448123620309051\n"
     ]
    }
   ],
   "source": [
    "print(gs.score(X_train, y_train))  #scoring on both train and test sets\n",
    "print(gs.score(X_test, y_test))"
   ]
  },
  {
   "cell_type": "markdown",
   "metadata": {},
   "source": [
    "- The difference between the train and test sets for accuracy score is comparable to the better-tuned cvec, logistic regression model mentioned above. However, since the model selected the upper end of the search space for 250 max features, let's tune further to see if the score can further improve."
   ]
  },
  {
   "cell_type": "code",
   "execution_count": 88,
   "metadata": {},
   "outputs": [
    {
     "name": "stdout",
     "output_type": "stream",
     "text": [
      "Fitting 10 folds for each of 168 candidates, totalling 1680 fits\n"
     ]
    },
    {
     "name": "stderr",
     "output_type": "stream",
     "text": [
      "[Parallel(n_jobs=-1)]: Using backend LokyBackend with 8 concurrent workers.\n",
      "[Parallel(n_jobs=-1)]: Done  34 tasks      | elapsed:    4.0s\n",
      "[Parallel(n_jobs=-1)]: Done 184 tasks      | elapsed:   20.0s\n",
      "[Parallel(n_jobs=-1)]: Done 434 tasks      | elapsed:   47.7s\n",
      "[Parallel(n_jobs=-1)]: Done 784 tasks      | elapsed:  1.4min\n",
      "[Parallel(n_jobs=-1)]: Done 1234 tasks      | elapsed:  2.2min\n",
      "[Parallel(n_jobs=-1)]: Done 1680 out of 1680 | elapsed:  3.1min finished\n"
     ]
    },
    {
     "data": {
      "text/plain": [
       "GridSearchCV(cv=10, error_score=nan,\n",
       "             estimator=Pipeline(memory=None,\n",
       "                                steps=[('tvec',\n",
       "                                        TfidfVectorizer(analyzer='word',\n",
       "                                                        binary=False,\n",
       "                                                        decode_error='strict',\n",
       "                                                        dtype=<class 'numpy.float64'>,\n",
       "                                                        encoding='utf-8',\n",
       "                                                        input='content',\n",
       "                                                        lowercase=True,\n",
       "                                                        max_df=1.0,\n",
       "                                                        max_features=None,\n",
       "                                                        min_df=1,\n",
       "                                                        ngram_range=(1, 1),\n",
       "                                                        norm='l2',\n",
       "                                                        preprocessor=None,\n",
       "                                                        smooth_idf=True,\n",
       "                                                        stop_words=['only',\n",
       "                                                                    'botto...\n",
       "                                                           random_state=None,\n",
       "                                                           solver='lbfgs',\n",
       "                                                           tol=0.0001,\n",
       "                                                           verbose=0,\n",
       "                                                           warm_start=False))],\n",
       "                                verbose=False),\n",
       "             iid='deprecated', n_jobs=-1,\n",
       "             param_grid={'tvec__max_df': [0.2, 0.25, 0.3, 0.4, 0.5, 0.8, 0.95],\n",
       "                         'tvec__max_features': [200, 250, 300, 500, 700, 1000],\n",
       "                         'tvec__min_df': [2, 3],\n",
       "                         'tvec__ngram_range': [(1, 1), (1, 2)]},\n",
       "             pre_dispatch='2*n_jobs', refit=True, return_train_score=False,\n",
       "             scoring=None, verbose=1)"
      ]
     },
     "execution_count": 88,
     "metadata": {},
     "output_type": "execute_result"
    }
   ],
   "source": [
    "# further tuning to get better scores:\n",
    "\n",
    "pipe_params = {\n",
    "    'tvec__max_features': [200, 250, 300, 500, 700, 1000],\n",
    "    'tvec__min_df': [2, 3],\n",
    "    'tvec__max_df': [.2, .25, .3, .4, .5, .8, .95],\n",
    "    'tvec__ngram_range': [(1,1), (1,2)]\n",
    "}\n",
    "gs = GridSearchCV(pipe2, param_grid=pipe_params, cv=10, n_jobs = -1, verbose = 1)\n",
    "gs.fit(X_train, y_train)"
   ]
  },
  {
   "cell_type": "code",
   "execution_count": 89,
   "metadata": {},
   "outputs": [
    {
     "name": "stdout",
     "output_type": "stream",
     "text": [
      "0.9742483660130719\n"
     ]
    },
    {
     "data": {
      "text/plain": [
       "{'tvec__max_df': 0.4,\n",
       " 'tvec__max_features': 1000,\n",
       " 'tvec__min_df': 2,\n",
       " 'tvec__ngram_range': (1, 2)}"
      ]
     },
     "execution_count": 89,
     "metadata": {},
     "output_type": "execute_result"
    }
   ],
   "source": [
    "print(gs.best_score_)\n",
    "gs.best_params_"
   ]
  },
  {
   "cell_type": "code",
   "execution_count": 90,
   "metadata": {},
   "outputs": [
    {
     "name": "stdout",
     "output_type": "stream",
     "text": [
      "0.9904341427520236\n",
      "0.9646799116997793\n"
     ]
    }
   ],
   "source": [
    "print(gs.score(X_train, y_train))  #scoring on both train and test sets\n",
    "print(gs.score(X_test, y_test))"
   ]
  },
  {
   "cell_type": "markdown",
   "metadata": {},
   "source": [
    "Although I can continue to tune since 1000 max features is the upper end of the search space for max features, the scores have increased and the gap between train and test scores have reduced to a pretty good amount (0.99 vs 0.96 for train vs test where the difference is 0.03; cvec's best model had a difference of 0.04 between train and test sets) and the best score of 0.97 is better than the initial fit with tvec (0.96). Let's stick with this!"
   ]
  },
  {
   "cell_type": "code",
   "execution_count": 91,
   "metadata": {},
   "outputs": [],
   "source": [
    "preds_lr = gs.predict(X_test) #generating lr's predictions"
   ]
  },
  {
   "cell_type": "code",
   "execution_count": 92,
   "metadata": {},
   "outputs": [
    {
     "name": "stdout",
     "output_type": "stream",
     "text": [
      "[[203  14]\n",
      " [  2 234]]\n"
     ]
    }
   ],
   "source": [
    "print(confusion_matrix(y_test,preds_lr)) #generating confusion matrix"
   ]
  },
  {
   "cell_type": "code",
   "execution_count": 93,
   "metadata": {},
   "outputs": [],
   "source": [
    "tn, fp, fn, tp = confusion_matrix(y_test, preds_lr).ravel() #determining true positives, negatives, false positives, negatives from confusion matrix"
   ]
  },
  {
   "cell_type": "code",
   "execution_count": 94,
   "metadata": {},
   "outputs": [
    {
     "name": "stdout",
     "output_type": "stream",
     "text": [
      "True Negatives: 203\n",
      "False Positives: 14\n",
      "False Negatives: 2\n",
      "True Positives: 234\n"
     ]
    }
   ],
   "source": [
    "print(\"True Negatives: %s\" % tn)   #calculating these as an alternative classfication metric for assessment.\n",
    "print(\"False Positives: %s\" % fp)\n",
    "print(\"False Negatives: %s\" % fn)\n",
    "print(\"True Positives: %s\" % tp)"
   ]
  },
  {
   "cell_type": "markdown",
   "metadata": {},
   "source": [
    "Based on the above confusion matrix, the logistic regression model with optimized tfidfvectorizer fared very well with only ~4% misclassification rate (((14+2)/(203+14+2+234)) * 100)! "
   ]
  },
  {
   "cell_type": "code",
   "execution_count": 95,
   "metadata": {},
   "outputs": [
    {
     "name": "stdout",
     "output_type": "stream",
     "text": [
      "              precision    recall  f1-score   support\n",
      "\n",
      "           0       0.99      0.94      0.96       217\n",
      "           1       0.94      0.99      0.97       236\n",
      "\n",
      "    accuracy                           0.96       453\n",
      "   macro avg       0.97      0.96      0.96       453\n",
      "weighted avg       0.97      0.96      0.96       453\n",
      "\n"
     ]
    }
   ],
   "source": [
    "print(classification_report(y_test,preds_lr))   #looking at other classification metrics-precision, recall (sensitivity), and f1-score"
   ]
  },
  {
   "cell_type": "markdown",
   "metadata": {},
   "source": [
    "Classification report also indicates high precision, recall (sensitivity) and f1-score (harmonic mean of precision and recall) for both class 1 (```TalesFromYourServer```) and 0 (```TalesFromTheFrontDesk```)!"
   ]
  },
  {
   "cell_type": "code",
   "execution_count": 96,
   "metadata": {},
   "outputs": [],
   "source": [
    "def roc(probas, true, step=0.01):   #defining function that will help to plot roc auc curve subsequently...\n",
    "    \"\"\"\n",
    "    probas should be a numpy array of predict_probas\n",
    "    true is a pandas series of true labels\n",
    "    step is the step size for checking thresholds\n",
    "    \"\"\"\n",
    "    \n",
    "    probas = probas[:,1]  # The output of predict_proba() is an array of the probabilities for every class, but we only want the probabilities for class 1\n",
    "    true = true.values    # We need to convert the class labels from a Pandas Series to a numpy array. We do this using the .values attribute\n",
    "    assert(len(probas) == len(true)) # We're making sure that our probabilities vector is the same length as our true class labels' vector\n",
    "    \n",
    "    TPRs = [] # Setting up empty list of True Positive Rate\n",
    "    FPRs = [] # Setting up empty list of False Positive Rate\n",
    "    \n",
    "    for i in np.arange(0.0,1.0,step): # np.arange allows us to use step sizes that are decimals\n",
    "        preds_class = probas > i # Numpy arrays have a feature called 'broadcasting.' Check the documentation: https://docs.scipy.org/doc/numpy-1.13.0/user/basics.broadcasting.html to see what this does.\n",
    "        TP = 0 \n",
    "        FP = 0\n",
    "        TN = 0\n",
    "        FN = 0\n",
    "        for index in range(len(preds_class)): # We're comparing each prediction with each true value here\n",
    "\n",
    "            if preds_class[index] == 1 and true[index] == 1:\n",
    "                TP += 1\n",
    "            elif preds_class[index] == 1 and true[index] == 0:\n",
    "                FP += 1\n",
    "            elif preds_class[index] == 0 and true[index] == 0:\n",
    "                TN += 1 \n",
    "            elif preds_class[index] == 0 and true[index] == 1:\n",
    "                FN += 1\n",
    "                \n",
    "        TPR = TP/(TP + FN) # Calculating TPR and FPR and appending to our lists\n",
    "        FPR = FP/(FP + TN)\n",
    "        \n",
    "        TPRs.append(TPR)\n",
    "        FPRs.append(FPR)\n",
    "         \n",
    "    plt.rcParams['font.size'] = 14\n",
    "    plt.plot(FPRs, TPRs, color=\"orange\")\n",
    "    plt.plot([0,1],[0,1], color='navy', lw=2, linestyle='--')\n",
    "    plt.xlim([-0.2, 1.2])\n",
    "    plt.ylim([-0.2, 1.2])\n",
    "    plt.title('Receiver Operating Characteristic')\n",
    "    plt.xlabel(\"False Positive Rate (1 - Specificity)\")\n",
    "    plt.ylabel(\"True Positive Rate (Sensitivity)\")\n",
    "    plt.show();"
   ]
  },
  {
   "cell_type": "code",
   "execution_count": 97,
   "metadata": {},
   "outputs": [],
   "source": [
    "probabilities = gs.predict_proba(X_test)  #calculating proabilities for input into roc curve function to plot roc"
   ]
  },
  {
   "cell_type": "code",
   "execution_count": 98,
   "metadata": {},
   "outputs": [
    {
     "data": {
      "image/png": "[encoded data removed]",
      "text/plain": [
       "<Figure size 432x288 with 1 Axes>"
      ]
     },
     "metadata": {
      "image/png": {
       "height": 291,
       "width": 459
      },
      "needs_background": "light"
     },
     "output_type": "display_data"
    }
   ],
   "source": [
    "roc(probas = probabilities, # pass in series of probabilities \n",
    "    true = y_test,          # pass in series of true values\n",
    "    step=0.0001);            # pass in step size"
   ]
  },
  {
   "cell_type": "code",
   "execution_count": 99,
   "metadata": {},
   "outputs": [
    {
     "data": {
      "text/plain": [
       "1    248\n",
       "0    205\n",
       "Name: 0, dtype: int64"
      ]
     },
     "execution_count": 99,
     "metadata": {},
     "output_type": "execute_result"
    }
   ],
   "source": [
    "pd.DataFrame(gs.predict(X_test))[0].value_counts() #class 1 is the greater class and so will be used to determine roc_auc score"
   ]
  },
  {
   "cell_type": "code",
   "execution_count": 100,
   "metadata": {},
   "outputs": [],
   "source": [
    "prob_1 = gs.predict_proba(X_test)[:,1] #obtaining predicted probabilities for class 1, for calculating the roc_auc_score"
   ]
  },
  {
   "cell_type": "code",
   "execution_count": 101,
   "metadata": {},
   "outputs": [
    {
     "data": {
      "text/plain": [
       "0.9965242521284075"
      ]
     },
     "execution_count": 101,
     "metadata": {},
     "output_type": "execute_result"
    }
   ],
   "source": [
    "roc_auc_score(y_test,prob_1) #roc_auc_score is ~1! Very high! Very optimized with regards to true and false positive rates!"
   ]
  },
  {
   "cell_type": "markdown",
   "metadata": {},
   "source": [
    "As shown in the Receiver Operating Characteristic curve above, the Area Under the Curve (AUC) is very close to 1, suggesting optimized classification of posts from ```TalesFromYourServer``` and ```TalesFromTheFrontDesk``` for Logistic Regression! "
   ]
  },
  {
   "cell_type": "markdown",
   "metadata": {},
   "source": [
    "Given that TfidfVectorizer seems to have lower variance (less overfitted) compared to CountVectorizer (as shown above earlier), we will proceed to use TfidfVectorizer for the rest of the model comparisons. Let's now run Naive Bayes Classifier to see how it compares with Logistic Regression! Naive Bayes is considered as the dataset is textual in nature and it is extremely fast and it is part of industry practice for word-related NLP classification problems! "
   ]
  },
  {
   "cell_type": "code",
   "execution_count": 102,
   "metadata": {},
   "outputs": [],
   "source": [
    "#instantiate TfidfVectorizer with customized stop words\n",
    "tvec1 = TfidfVectorizer(stop_words=cust_stop_words)"
   ]
  },
  {
   "cell_type": "code",
   "execution_count": 103,
   "metadata": {},
   "outputs": [],
   "source": [
    "# Fit our TfidfVectorizer on the training data and transform training data.\n",
    "X_train_tvec1 = pd.DataFrame(tvec1.fit_transform(X_train).todense(), columns = tvec1.get_feature_names()) "
   ]
  },
  {
   "cell_type": "code",
   "execution_count": 104,
   "metadata": {},
   "outputs": [],
   "source": [
    "# Transform our testing data with the already-fit TfidfVectorizer.\n",
    "X_test_tvec1 = pd.DataFrame(tvec1.transform(X_test).todense(), columns = tvec1.get_feature_names())"
   ]
  },
  {
   "cell_type": "code",
   "execution_count": 105,
   "metadata": {},
   "outputs": [
    {
     "data": {
      "image/png": "[encoded data removed]",
      "text/plain": [
       "<Figure size 432x288 with 1 Axes>"
      ]
     },
     "metadata": {
      "image/png": {
       "height": 249,
       "width": 429
      },
      "needs_background": "light"
     },
     "output_type": "display_data"
    }
   ],
   "source": [
    "plt.hist(X_train_tvec1['actually']);"
   ]
  },
  {
   "cell_type": "markdown",
   "metadata": {},
   "source": [
    "- Given that we are using TfidfVectorizer which generates floats rather than 1s or 0s, and features such as the word, 'actually' is clearly not normally distributed as shown above in the histogram, Multinomial Naive Bayes will be used. "
   ]
  },
  {
   "cell_type": "code",
   "execution_count": 106,
   "metadata": {
    "scrolled": true
   },
   "outputs": [
    {
     "name": "stdout",
     "output_type": "stream",
     "text": [
      "Fitting 10 folds for each of 168 candidates, totalling 1680 fits\n"
     ]
    },
    {
     "name": "stderr",
     "output_type": "stream",
     "text": [
      "[Parallel(n_jobs=-1)]: Using backend LokyBackend with 8 concurrent workers.\n",
      "[Parallel(n_jobs=-1)]: Done  34 tasks      | elapsed:    4.0s\n",
      "[Parallel(n_jobs=-1)]: Done 184 tasks      | elapsed:   19.8s\n",
      "[Parallel(n_jobs=-1)]: Done 434 tasks      | elapsed:   46.3s\n",
      "[Parallel(n_jobs=-1)]: Done 784 tasks      | elapsed:  1.4min\n",
      "[Parallel(n_jobs=-1)]: Done 1234 tasks      | elapsed:  2.2min\n",
      "[Parallel(n_jobs=-1)]: Done 1680 out of 1680 | elapsed:  3.0min finished\n"
     ]
    },
    {
     "data": {
      "text/plain": [
       "GridSearchCV(cv=10, error_score=nan,\n",
       "             estimator=Pipeline(memory=None,\n",
       "                                steps=[('tvec',\n",
       "                                        TfidfVectorizer(analyzer='word',\n",
       "                                                        binary=False,\n",
       "                                                        decode_error='strict',\n",
       "                                                        dtype=<class 'numpy.float64'>,\n",
       "                                                        encoding='utf-8',\n",
       "                                                        input='content',\n",
       "                                                        lowercase=True,\n",
       "                                                        max_df=1.0,\n",
       "                                                        max_features=None,\n",
       "                                                        min_df=1,\n",
       "                                                        ngram_range=(1, 1),\n",
       "                                                        norm='l2',\n",
       "                                                        preprocessor=None,\n",
       "                                                        smooth_idf=True,\n",
       "                                                        stop_words=['only',\n",
       "                                                                    'botto...\n",
       "                                       ('mb',\n",
       "                                        MultinomialNB(alpha=1.0,\n",
       "                                                      class_prior=None,\n",
       "                                                      fit_prior=True))],\n",
       "                                verbose=False),\n",
       "             iid='deprecated', n_jobs=-1,\n",
       "             param_grid={'tvec__max_df': [0.2, 0.25, 0.3, 0.4, 0.5, 0.8, 0.95],\n",
       "                         'tvec__max_features': [200, 250, 300, 500, 700, 1000],\n",
       "                         'tvec__min_df': [2, 3],\n",
       "                         'tvec__ngram_range': [(1, 1), (1, 2)]},\n",
       "             pre_dispatch='2*n_jobs', refit=True, return_train_score=False,\n",
       "             scoring=None, verbose=1)"
      ]
     },
     "execution_count": 106,
     "metadata": {},
     "output_type": "execute_result"
    }
   ],
   "source": [
    "pipe3 = Pipeline([               #pipeline now contains tfidf vectorizer and the Multinomial Naive Bayes estimator\n",
    "    (\"tvec\", TfidfVectorizer(stop_words = cust_stop_words)),\n",
    "    (\"mb\", MultinomialNB())\n",
    "    ])\n",
    "\n",
    "pipe_params = {          #range of hyperparameter search space\n",
    "    'tvec__max_features': [200, 250, 300, 500, 700, 1000],\n",
    "    'tvec__min_df': [2, 3],\n",
    "    'tvec__max_df': [.2, .25, .3, .4, .5, .8, .95],\n",
    "    'tvec__ngram_range': [(1,1), (1,2)]\n",
    "}\n",
    "gs1 = GridSearchCV(pipe3, param_grid=pipe_params, cv=10, n_jobs = -1, verbose = 1)\n",
    "gs1.fit(X_train, y_train)   #training the model"
   ]
  },
  {
   "cell_type": "code",
   "execution_count": 107,
   "metadata": {},
   "outputs": [
    {
     "name": "stdout",
     "output_type": "stream",
     "text": [
      "0.9661437908496732\n"
     ]
    },
    {
     "data": {
      "text/plain": [
       "{'tvec__max_df': 0.8,\n",
       " 'tvec__max_features': 700,\n",
       " 'tvec__min_df': 2,\n",
       " 'tvec__ngram_range': (1, 2)}"
      ]
     },
     "execution_count": 107,
     "metadata": {},
     "output_type": "execute_result"
    }
   ],
   "source": [
    "print(gs1.best_score_)\n",
    "gs1.best_params_"
   ]
  },
  {
   "cell_type": "markdown",
   "metadata": {},
   "source": [
    "Since most of the best hyperparameters fall well within the search space in the pipeline, this is considered more or less optimized and there is no need to expand the search space and do further tuning."
   ]
  },
  {
   "cell_type": "code",
   "execution_count": 108,
   "metadata": {},
   "outputs": [
    {
     "name": "stdout",
     "output_type": "stream",
     "text": [
      "0.9742457689477557\n",
      "0.9624724061810155\n"
     ]
    }
   ],
   "source": [
    "print(gs1.score(X_train, y_train)) #scoring model on both trin and test sets\n",
    "print(gs1.score(X_test, y_test))"
   ]
  },
  {
   "cell_type": "markdown",
   "metadata": {},
   "source": [
    "The above shows a decrease in variance as the difference between the train and test score is 0.01 which is lower than that for the Logistic Regression model! Let's compare alternative classification metrics between Multinomial Naive Bayes and Logistic Regression!"
   ]
  },
  {
   "cell_type": "code",
   "execution_count": 109,
   "metadata": {},
   "outputs": [],
   "source": [
    "preds_mb = gs1.predict(X_test) #generating mb's predictions"
   ]
  },
  {
   "cell_type": "code",
   "execution_count": 110,
   "metadata": {},
   "outputs": [
    {
     "name": "stdout",
     "output_type": "stream",
     "text": [
      "[[209   8]\n",
      " [  9 227]]\n"
     ]
    }
   ],
   "source": [
    "print(confusion_matrix(y_test,preds_mb)) #generating confusion matrix"
   ]
  },
  {
   "cell_type": "code",
   "execution_count": 111,
   "metadata": {},
   "outputs": [],
   "source": [
    "tn, fp, fn, tp = confusion_matrix(y_test, preds_mb).ravel() #determining true positives, negatives, false positives, negatives from confusion matrix"
   ]
  },
  {
   "cell_type": "code",
   "execution_count": 112,
   "metadata": {},
   "outputs": [
    {
     "name": "stdout",
     "output_type": "stream",
     "text": [
      "True Negatives: 209\n",
      "False Positives: 8\n",
      "False Negatives: 9\n",
      "True Positives: 227\n"
     ]
    }
   ],
   "source": [
    "print(\"True Negatives: %s\" % tn)   #looking at alternative classification metrics\n",
    "print(\"False Positives: %s\" % fp)\n",
    "print(\"False Negatives: %s\" % fn)\n",
    "print(\"True Positives: %s\" % tp)"
   ]
  },
  {
   "cell_type": "markdown",
   "metadata": {},
   "source": [
    "When examining the confusion matrix, the multinomial naive bayes model with optimized tfidfvectorizer fared very well with only ~4% misclassification rate (((8+9)/(209+8+9+227)) * 100), almost identical to that of the logistic regression!"
   ]
  },
  {
   "cell_type": "code",
   "execution_count": 113,
   "metadata": {},
   "outputs": [
    {
     "name": "stdout",
     "output_type": "stream",
     "text": [
      "              precision    recall  f1-score   support\n",
      "\n",
      "           0       0.96      0.96      0.96       217\n",
      "           1       0.97      0.96      0.96       236\n",
      "\n",
      "    accuracy                           0.96       453\n",
      "   macro avg       0.96      0.96      0.96       453\n",
      "weighted avg       0.96      0.96      0.96       453\n",
      "\n"
     ]
    }
   ],
   "source": [
    "print(classification_report(y_test,preds_mb))  #looking at other metrics like precision, recall (also known as sensitivity), and F1-Score"
   ]
  },
  {
   "cell_type": "markdown",
   "metadata": {},
   "source": [
    "Classification report also showed encouraging result, not much inferior relative to Logistic Regression. Specifically, the Logistic Regression outperformed Multinomial Naive Bayes in terms of sensitivity in detecting the ```TalesFromYourServer``` but the Multinomial Naive Bayes has less false positives when detecting the ```TalesFromYourServer``` compared to Logistic Regression. "
   ]
  },
  {
   "cell_type": "code",
   "execution_count": 114,
   "metadata": {},
   "outputs": [],
   "source": [
    "probabilities_mb = gs1.predict_proba(X_test) #calculating proabilities for input into roc curve function to plot roc"
   ]
  },
  {
   "cell_type": "code",
   "execution_count": 115,
   "metadata": {},
   "outputs": [
    {
     "data": {
      "image/png": "[encoded data removed]",
      "text/plain": [
       "<Figure size 432x288 with 1 Axes>"
      ]
     },
     "metadata": {
      "image/png": {
       "height": 291,
       "width": 459
      },
      "needs_background": "light"
     },
     "output_type": "display_data"
    }
   ],
   "source": [
    "roc(probas = probabilities_mb, # pass in series of probabilities \n",
    "    true = y_test,          # pass in series of true values\n",
    "    step=0.0001);            # pass in step size"
   ]
  },
  {
   "cell_type": "code",
   "execution_count": 116,
   "metadata": {},
   "outputs": [
    {
     "data": {
      "text/plain": [
       "1    235\n",
       "0    218\n",
       "Name: 0, dtype: int64"
      ]
     },
     "execution_count": 116,
     "metadata": {},
     "output_type": "execute_result"
    }
   ],
   "source": [
    "pd.DataFrame(gs1.predict(X_test))[0].value_counts() #class 1 is the greater class and so will be used to determine roc_auc score"
   ]
  },
  {
   "cell_type": "code",
   "execution_count": 117,
   "metadata": {},
   "outputs": [],
   "source": [
    "prob_2 = gs1.predict_proba(X_test)[:,1]  #calculating proabilities to determine roc_auc_score below"
   ]
  },
  {
   "cell_type": "code",
   "execution_count": 118,
   "metadata": {},
   "outputs": [
    {
     "data": {
      "text/plain": [
       "0.9938490978676873"
      ]
     },
     "execution_count": 118,
     "metadata": {},
     "output_type": "execute_result"
    }
   ],
   "source": [
    "roc_auc_score(y_test,prob_2) #roc_auc_score is 0.99! Very high! very optimized with regards to true and false positive rates!"
   ]
  },
  {
   "cell_type": "markdown",
   "metadata": {},
   "source": [
    "- As shown in the Receiver Operating Characteristic curve above, the Area Under the Curve (AUC) is 0.99, which is very close to 1, suggesting optimized classification of posts from ```TalesFromYourServer``` and ```TalesFromTheFrontDesk``` for Multinomial Naive Bayes too!\n",
    "\n",
    "\n",
    "- As both Logistic Regression and Naive Bayes seem to perform equally well, we will examine the interpretability of the coefficients for both models to determine which will be put forth as the model of choice to address the problem statement, in the following section."
   ]
  },
  {
   "cell_type": "markdown",
   "metadata": {},
   "source": [
    "# Interpretation of Results\n",
    "---\n",
    "[Click here to go back to Contents](#Contents)\n",
    "\n",
    "### Comparisons across both models of various classification metrics\n",
    "\n",
    "In the summary table below, \n",
    "- Class 0 refers to ```TalesFromTheFrontDesk``` and Class 1 refers to ```TalesFromYourServer```\n",
    "- Accuracy refers to the total number of correctly classified categories, where the Positive class refers to class 1 and the Negative class refers to class 0 and True Positives (TP), True Negatives (TN), False Positives (FP), False Negatives (FN) fit into the formula: (TP+TN)/(TP+TN+FP+FN)\n",
    "- True Positives refer to ```TalesFromYourServer``` correctly classified as ```TalesFromYourServer```\n",
    "- True Negatives refer to ```TalesFromTheFrontDesk``` correctly classified as ```TalesFromTheFrontDesk```\n",
    "- False Positives refer to ```TalesFromTheFrontDesk``` incorrectly classified as ```TalesFromYourServer```\n",
    "- False Negatives refer to ```TalesFromYourServer``` incorrectly classified as ```TalesFromTheFrontDesk```\n",
    "- Precision refers to the positive predictive value which is defined as (TP)/(TP+FP)\n",
    "- Recall is also known as sensitivity, hit rate, and true positive rate and is defined as (TP)/(TP+FN)\n",
    "- F1-Score refers to the harmonic mean of Precision and Recall (2 x ((precision x recall)/(precision + recall)))\n",
    "- ROC AUC refers to the Area Under the Curve in the Receiver Operating Characteristic graph"
   ]
  },
  {
   "cell_type": "markdown",
   "metadata": {},
   "source": [
    "|<center><font size='3'>Model<center>|<center><font size='3'>Accuracy Score<br>(on test set)<center>|<center><font size='3'>Classification<br>Categories<center>|<center><font size='3'>Classification Report<br>Metrics<center>|<center><font size='3'>ROC AUC<center>|\n",
    "|---|---|---|---|---|\n",
    "|<center><font size='2'>***Logistic Regression<br>with<br>TfidfVectorizer (chosen)***<center>|<center>***0.96***<center>|<center>***True Negatives: 203***<br>***False Positives: 14***<br>***False Negatives: 2***<br>***True Positives: 234***<center>|***Precision for class 0: 0.99***<br>***class 1: 0.94***<br>***Recall for class 0: 0.94***<br>***class 1: 0.99***<br>***F1-Score for class 0: 0.96***<br>***class 1: 0.97***|<center>***~1***<center>|\n",
    "|<center><font size='2'>*Multinomial Naive Bayes<br>with<br>TfidfVectorizer*<center>|<center>0.96<center>|<center>True Negatives: 209<br>False Positives: 8<br>False Negatives: 9<br>True Positives: 227<center>|Precision for class 0: 0.96<br>class 1: 0.97<br>Recall for class 0: 0.96<br>class 1: 0.96<br>F1-Score for both classes: 0.96|<center>0.99<center>|                                           "
   ]
  },
  {
   "cell_type": "markdown",
   "metadata": {},
   "source": [
    "The above table showed that both models performed about equally well, well above the baseline accuracy score of 0.52, except for minor differences in precision and recall with either class 0 or class 1. For instance, Logistic Regression is more sensitive in identifying ```TalesFromYourServer```(class 1), given that its recall (sensitivity) for class 1 is 0.99 whereas that for Multinomial Naive Bayes is 0.96) and perhaps because of this, it has more false positives compared to the Multinomial Naive Bayes model given that its precision score for class 1 is 0.94 which is lower than that of Multinomial Naive Bayes which is 0.97. The ROC AUC for Logistic Regression is also slightly higher than that of Multinomial Naive Bayes as shown in the tabulation above. Nevertheless, both models' ROC AUC are quite close to 1 which means that the false positive and true positive rates were highly optimized.\n",
    "\n",
    "The very high classification accuracies of both models (and in fact a lower variance for Multinomial Naive Bayes mentioned above) might suggest that the chosen subreddits are not similar enough to be deemed challenging to distinguish.\n",
    "\n",
    "Since both models shown above perform almost identically well, which model should I choose as the production model? Let's explore the coefficients derived from both models to decide."
   ]
  },
  {
   "cell_type": "markdown",
   "metadata": {},
   "source": [
    "### Extracting coefficients from Multinomial Naive Bayes for interpretation.."
   ]
  },
  {
   "cell_type": "code",
   "execution_count": 119,
   "metadata": {},
   "outputs": [],
   "source": [
    "#instantiate TfidfVectorizer using optimized hyperparameters from gs1 above\n",
    "tvec_mb = TfidfVectorizer(stop_words=cust_stop_words, max_df=0.8, max_features=700, min_df=2, ngram_range=(1, 2))"
   ]
  },
  {
   "cell_type": "code",
   "execution_count": 120,
   "metadata": {},
   "outputs": [],
   "source": [
    "# Fit our TfidfVectorizer on the training data and transform training data.\n",
    "X_train_tvec_mb = pd.DataFrame(tvec_mb.fit_transform(X_train).todense(), columns = tvec_mb.get_feature_names()) "
   ]
  },
  {
   "cell_type": "code",
   "execution_count": 121,
   "metadata": {},
   "outputs": [],
   "source": [
    "# Transform our testing data with the already-fit TfidfVectorizer.\n",
    "X_test_tvec_mb = pd.DataFrame(tvec_mb.transform(X_test).todense(), columns = tvec_mb.get_feature_names())"
   ]
  },
  {
   "cell_type": "code",
   "execution_count": 122,
   "metadata": {},
   "outputs": [],
   "source": [
    "mb_fin = MultinomialNB()  #instantiating the Multinomial Naive Bayes"
   ]
  },
  {
   "cell_type": "code",
   "execution_count": 123,
   "metadata": {},
   "outputs": [
    {
     "data": {
      "text/plain": [
       "MultinomialNB(alpha=1.0, class_prior=None, fit_prior=True)"
      ]
     },
     "execution_count": 123,
     "metadata": {},
     "output_type": "execute_result"
    }
   ],
   "source": [
    "mb_fin.fit(X_train_tvec_mb, y_train)  #fitting the model to obtain the coefficients later on."
   ]
  },
  {
   "cell_type": "code",
   "execution_count": 124,
   "metadata": {
    "scrolled": true
   },
   "outputs": [
    {
     "data": {
      "text/html": [
       "<div>\n",
       "<style scoped>\n",
       "    .dataframe tbody tr th:only-of-type {\n",
       "        vertical-align: middle;\n",
       "    }\n",
       "\n",
       "    .dataframe tbody tr th {\n",
       "        vertical-align: top;\n",
       "    }\n",
       "\n",
       "    .dataframe thead th {\n",
       "        text-align: right;\n",
       "    }\n",
       "</style>\n",
       "<table border=\"1\" class=\"dataframe\">\n",
       "  <thead>\n",
       "    <tr style=\"text-align: right;\">\n",
       "      <th></th>\n",
       "      <th>variable</th>\n",
       "      <th>coef</th>\n",
       "      <th>abs_coef</th>\n",
       "      <th>times_as_likely_frm_servertales</th>\n",
       "    </tr>\n",
       "  </thead>\n",
       "  <tbody>\n",
       "    <tr>\n",
       "      <th>591</th>\n",
       "      <td>suite</td>\n",
       "      <td>-8.457423</td>\n",
       "      <td>8.457423</td>\n",
       "      <td>0.000212</td>\n",
       "    </tr>\n",
       "    <tr>\n",
       "      <th>24</th>\n",
       "      <td>audit</td>\n",
       "      <td>-8.457423</td>\n",
       "      <td>8.457423</td>\n",
       "      <td>0.000212</td>\n",
       "    </tr>\n",
       "    <tr>\n",
       "      <th>407</th>\n",
       "      <td>night auditor</td>\n",
       "      <td>-8.457423</td>\n",
       "      <td>8.457423</td>\n",
       "      <td>0.000212</td>\n",
       "    </tr>\n",
       "    <tr>\n",
       "      <th>401</th>\n",
       "      <td>na</td>\n",
       "      <td>-8.457423</td>\n",
       "      <td>8.457423</td>\n",
       "      <td>0.000212</td>\n",
       "    </tr>\n",
       "    <tr>\n",
       "      <th>184</th>\n",
       "      <td>elevator</td>\n",
       "      <td>-8.457423</td>\n",
       "      <td>8.457423</td>\n",
       "      <td>0.000212</td>\n",
       "    </tr>\n",
       "    <tr>\n",
       "      <th>208</th>\n",
       "      <td>fd</td>\n",
       "      <td>-8.457423</td>\n",
       "      <td>8.457423</td>\n",
       "      <td>0.000212</td>\n",
       "    </tr>\n",
       "    <tr>\n",
       "      <th>209</th>\n",
       "      <td>fda</td>\n",
       "      <td>-8.457423</td>\n",
       "      <td>8.457423</td>\n",
       "      <td>0.000212</td>\n",
       "    </tr>\n",
       "    <tr>\n",
       "      <th>647</th>\n",
       "      <td>upgrade</td>\n",
       "      <td>-8.457423</td>\n",
       "      <td>8.457423</td>\n",
       "      <td>0.000212</td>\n",
       "    </tr>\n",
       "    <tr>\n",
       "      <th>149</th>\n",
       "      <td>dg</td>\n",
       "      <td>-8.457423</td>\n",
       "      <td>8.457423</td>\n",
       "      <td>0.000212</td>\n",
       "    </tr>\n",
       "    <tr>\n",
       "      <th>25</th>\n",
       "      <td>auditor</td>\n",
       "      <td>-8.457423</td>\n",
       "      <td>8.457423</td>\n",
       "      <td>0.000212</td>\n",
       "    </tr>\n",
       "    <tr>\n",
       "      <th>105</th>\n",
       "      <td>come desk</td>\n",
       "      <td>-8.457423</td>\n",
       "      <td>8.457423</td>\n",
       "      <td>0.000212</td>\n",
       "    </tr>\n",
       "    <tr>\n",
       "      <th>299</th>\n",
       "      <td>housekeeping</td>\n",
       "      <td>-8.457423</td>\n",
       "      <td>8.457423</td>\n",
       "      <td>0.000212</td>\n",
       "    </tr>\n",
       "    <tr>\n",
       "      <th>298</th>\n",
       "      <td>housekeeper</td>\n",
       "      <td>-8.457423</td>\n",
       "      <td>8.457423</td>\n",
       "      <td>0.000212</td>\n",
       "    </tr>\n",
       "    <tr>\n",
       "      <th>90</th>\n",
       "      <td>checkout</td>\n",
       "      <td>-8.457423</td>\n",
       "      <td>8.457423</td>\n",
       "      <td>0.000212</td>\n",
       "    </tr>\n",
       "    <tr>\n",
       "      <th>4</th>\n",
       "      <td>agent</td>\n",
       "      <td>-8.375176</td>\n",
       "      <td>8.375176</td>\n",
       "      <td>0.000231</td>\n",
       "    </tr>\n",
       "    <tr>\n",
       "      <th>469</th>\n",
       "      <td>property</td>\n",
       "      <td>-8.343414</td>\n",
       "      <td>8.343414</td>\n",
       "      <td>0.000238</td>\n",
       "    </tr>\n",
       "    <tr>\n",
       "      <th>551</th>\n",
       "      <td>site</td>\n",
       "      <td>-8.299691</td>\n",
       "      <td>8.299691</td>\n",
       "      <td>0.000249</td>\n",
       "    </tr>\n",
       "    <tr>\n",
       "      <th>408</th>\n",
       "      <td>noise</td>\n",
       "      <td>-8.279771</td>\n",
       "      <td>8.279771</td>\n",
       "      <td>0.000254</td>\n",
       "    </tr>\n",
       "    <tr>\n",
       "      <th>559</th>\n",
       "      <td>smoking</td>\n",
       "      <td>-8.178496</td>\n",
       "      <td>8.178496</td>\n",
       "      <td>0.000281</td>\n",
       "    </tr>\n",
       "    <tr>\n",
       "      <th>367</th>\n",
       "      <td>maintenance</td>\n",
       "      <td>-8.173911</td>\n",
       "      <td>8.173911</td>\n",
       "      <td>0.000282</td>\n",
       "    </tr>\n",
       "  </tbody>\n",
       "</table>\n",
       "</div>"
      ],
      "text/plain": [
       "          variable      coef  abs_coef  times_as_likely_frm_servertales\n",
       "591          suite -8.457423  8.457423                         0.000212\n",
       "24           audit -8.457423  8.457423                         0.000212\n",
       "407  night auditor -8.457423  8.457423                         0.000212\n",
       "401             na -8.457423  8.457423                         0.000212\n",
       "184       elevator -8.457423  8.457423                         0.000212\n",
       "208             fd -8.457423  8.457423                         0.000212\n",
       "209            fda -8.457423  8.457423                         0.000212\n",
       "647        upgrade -8.457423  8.457423                         0.000212\n",
       "149             dg -8.457423  8.457423                         0.000212\n",
       "25         auditor -8.457423  8.457423                         0.000212\n",
       "105      come desk -8.457423  8.457423                         0.000212\n",
       "299   housekeeping -8.457423  8.457423                         0.000212\n",
       "298    housekeeper -8.457423  8.457423                         0.000212\n",
       "90        checkout -8.457423  8.457423                         0.000212\n",
       "4            agent -8.375176  8.375176                         0.000231\n",
       "469       property -8.343414  8.343414                         0.000238\n",
       "551           site -8.299691  8.299691                         0.000249\n",
       "408          noise -8.279771  8.279771                         0.000254\n",
       "559        smoking -8.178496  8.178496                         0.000281\n",
       "367    maintenance -8.173911  8.173911                         0.000282"
      ]
     },
     "execution_count": 124,
     "metadata": {},
     "output_type": "execute_result"
    }
   ],
   "source": [
    "mb_coefs = pd.DataFrame({'variable':tvec_mb.get_feature_names(),    #generating a dictionary of coefficients and corresponding feature names to determine if they are interpretable...\n",
    "                            'coef':mb_fin.coef_.T.ravel(),\n",
    "                            'abs_coef':np.abs(mb_fin.coef_.T.ravel()),\n",
    "                            'times_as_likely_frm_servertales':np.exp(mb_fin.coef_.T.ravel())}) #calculating the number of times as likely for post come from TalesFromYourServer\n",
    "mb_coefs.sort_values('abs_coef', inplace=True, ascending=False)\n",
    "\n",
    "mb_coefs.head(20) #this shows the word features ranked in terms of their discriminating power "
   ]
  },
  {
   "cell_type": "code",
   "execution_count": 125,
   "metadata": {
    "scrolled": true
   },
   "outputs": [
    {
     "data": {
      "text/html": [
       "<div>\n",
       "<style scoped>\n",
       "    .dataframe tbody tr th:only-of-type {\n",
       "        vertical-align: middle;\n",
       "    }\n",
       "\n",
       "    .dataframe tbody tr th {\n",
       "        vertical-align: top;\n",
       "    }\n",
       "\n",
       "    .dataframe thead th {\n",
       "        text-align: right;\n",
       "    }\n",
       "</style>\n",
       "<table border=\"1\" class=\"dataframe\">\n",
       "  <thead>\n",
       "    <tr style=\"text-align: right;\">\n",
       "      <th></th>\n",
       "      <th>variable</th>\n",
       "      <th>coef</th>\n",
       "      <th>abs_coef</th>\n",
       "      <th>times_as_likely_frm_servertales</th>\n",
       "    </tr>\n",
       "  </thead>\n",
       "  <tbody>\n",
       "    <tr>\n",
       "      <th>138</th>\n",
       "      <td>day</td>\n",
       "      <td>-5.375712</td>\n",
       "      <td>5.375712</td>\n",
       "      <td>0.004628</td>\n",
       "    </tr>\n",
       "    <tr>\n",
       "      <th>512</th>\n",
       "      <td>said</td>\n",
       "      <td>-5.367988</td>\n",
       "      <td>5.367988</td>\n",
       "      <td>0.004664</td>\n",
       "    </tr>\n",
       "    <tr>\n",
       "      <th>326</th>\n",
       "      <td>know</td>\n",
       "      <td>-5.334597</td>\n",
       "      <td>5.334597</td>\n",
       "      <td>0.004822</td>\n",
       "    </tr>\n",
       "    <tr>\n",
       "      <th>654</th>\n",
       "      <td>ve</td>\n",
       "      <td>-5.315583</td>\n",
       "      <td>5.315583</td>\n",
       "      <td>0.004914</td>\n",
       "    </tr>\n",
       "    <tr>\n",
       "      <th>133</th>\n",
       "      <td>customer</td>\n",
       "      <td>-5.256863</td>\n",
       "      <td>5.256863</td>\n",
       "      <td>0.005212</td>\n",
       "    </tr>\n",
       "    <tr>\n",
       "      <th>315</th>\n",
       "      <td>job</td>\n",
       "      <td>-5.245411</td>\n",
       "      <td>5.245411</td>\n",
       "      <td>0.005272</td>\n",
       "    </tr>\n",
       "    <tr>\n",
       "      <th>172</th>\n",
       "      <td>drink</td>\n",
       "      <td>-5.183001</td>\n",
       "      <td>5.183001</td>\n",
       "      <td>0.005611</td>\n",
       "    </tr>\n",
       "    <tr>\n",
       "      <th>164</th>\n",
       "      <td>don</td>\n",
       "      <td>-5.169071</td>\n",
       "      <td>5.169071</td>\n",
       "      <td>0.005690</td>\n",
       "    </tr>\n",
       "    <tr>\n",
       "      <th>374</th>\n",
       "      <td>manager</td>\n",
       "      <td>-5.155634</td>\n",
       "      <td>5.155634</td>\n",
       "      <td>0.005767</td>\n",
       "    </tr>\n",
       "    <tr>\n",
       "      <th>445</th>\n",
       "      <td>people</td>\n",
       "      <td>-5.149912</td>\n",
       "      <td>5.149912</td>\n",
       "      <td>0.005800</td>\n",
       "    </tr>\n",
       "    <tr>\n",
       "      <th>681</th>\n",
       "      <td>work</td>\n",
       "      <td>-5.140163</td>\n",
       "      <td>5.140163</td>\n",
       "      <td>0.005857</td>\n",
       "    </tr>\n",
       "    <tr>\n",
       "      <th>228</th>\n",
       "      <td>food</td>\n",
       "      <td>-5.108446</td>\n",
       "      <td>5.108446</td>\n",
       "      <td>0.006045</td>\n",
       "    </tr>\n",
       "    <tr>\n",
       "      <th>618</th>\n",
       "      <td>time</td>\n",
       "      <td>-5.070370</td>\n",
       "      <td>5.070370</td>\n",
       "      <td>0.006280</td>\n",
       "    </tr>\n",
       "    <tr>\n",
       "      <th>343</th>\n",
       "      <td>like</td>\n",
       "      <td>-5.027687</td>\n",
       "      <td>5.027687</td>\n",
       "      <td>0.006554</td>\n",
       "    </tr>\n",
       "    <tr>\n",
       "      <th>429</th>\n",
       "      <td>order</td>\n",
       "      <td>-4.988664</td>\n",
       "      <td>4.988664</td>\n",
       "      <td>0.006815</td>\n",
       "    </tr>\n",
       "    <tr>\n",
       "      <th>317</th>\n",
       "      <td>just</td>\n",
       "      <td>-4.849805</td>\n",
       "      <td>4.849805</td>\n",
       "      <td>0.007830</td>\n",
       "    </tr>\n",
       "    <tr>\n",
       "      <th>499</th>\n",
       "      <td>restaurant</td>\n",
       "      <td>-4.829186</td>\n",
       "      <td>4.829186</td>\n",
       "      <td>0.007993</td>\n",
       "    </tr>\n",
       "    <tr>\n",
       "      <th>619</th>\n",
       "      <td>tip</td>\n",
       "      <td>-4.777300</td>\n",
       "      <td>4.777300</td>\n",
       "      <td>0.008419</td>\n",
       "    </tr>\n",
       "    <tr>\n",
       "      <th>534</th>\n",
       "      <td>server</td>\n",
       "      <td>-4.626353</td>\n",
       "      <td>4.626353</td>\n",
       "      <td>0.009790</td>\n",
       "    </tr>\n",
       "    <tr>\n",
       "      <th>598</th>\n",
       "      <td>table</td>\n",
       "      <td>-4.425197</td>\n",
       "      <td>4.425197</td>\n",
       "      <td>0.011972</td>\n",
       "    </tr>\n",
       "  </tbody>\n",
       "</table>\n",
       "</div>"
      ],
      "text/plain": [
       "       variable      coef  abs_coef  times_as_likely_frm_servertales\n",
       "138         day -5.375712  5.375712                         0.004628\n",
       "512        said -5.367988  5.367988                         0.004664\n",
       "326        know -5.334597  5.334597                         0.004822\n",
       "654          ve -5.315583  5.315583                         0.004914\n",
       "133    customer -5.256863  5.256863                         0.005212\n",
       "315         job -5.245411  5.245411                         0.005272\n",
       "172       drink -5.183001  5.183001                         0.005611\n",
       "164         don -5.169071  5.169071                         0.005690\n",
       "374     manager -5.155634  5.155634                         0.005767\n",
       "445      people -5.149912  5.149912                         0.005800\n",
       "681        work -5.140163  5.140163                         0.005857\n",
       "228        food -5.108446  5.108446                         0.006045\n",
       "618        time -5.070370  5.070370                         0.006280\n",
       "343        like -5.027687  5.027687                         0.006554\n",
       "429       order -4.988664  4.988664                         0.006815\n",
       "317        just -4.849805  4.849805                         0.007830\n",
       "499  restaurant -4.829186  4.829186                         0.007993\n",
       "619         tip -4.777300  4.777300                         0.008419\n",
       "534      server -4.626353  4.626353                         0.009790\n",
       "598       table -4.425197  4.425197                         0.011972"
      ]
     },
     "execution_count": 125,
     "metadata": {},
     "output_type": "execute_result"
    }
   ],
   "source": [
    "mb_coefs.tail(20) #looking at the bottom 20 coefficients and their associated word features. All are negative coefficients! "
   ]
  },
  {
   "cell_type": "markdown",
   "metadata": {},
   "source": [
    "- Multinomial Naive Bayes' coefficients can be interpreted by taking their exponentials (```np.exp()```). The output is the number of times as likely for the post containing that particular word feature to come from ```TalesFromYourServer``` (class 1). It appears that all of the \"important\" word features from the Multinomial Naive Bayes model have negative coefficients - this means that the model will tend to predict that a given post is unlikely to belong under ```TalesFromYourServer``` given each of the 700 word features used in training the Multinomial Naive Bayes, suggesting that its predictions will be imbalanced and skewed towards ```TalesFromTheFrontDesk```. This could explain why Multinomial Naive Bayes generated more False Negatives than Logistic Regression does (9 for Multinomial Naive Bayes vs 2 for Logistic Regression based on table above). It is also worth noting that Multinomial Naive Bayes' ROC AUC as shown in the table above is slightly lower than Logistic Regression's. Logistic Regression moreover also presents more interpretable results as shown below."
   ]
  },
  {
   "cell_type": "markdown",
   "metadata": {},
   "source": [
    "### Extracting coefficients from Logistic Regression for interpretation..."
   ]
  },
  {
   "cell_type": "code",
   "execution_count": 126,
   "metadata": {},
   "outputs": [],
   "source": [
    "#instantiate TfidfVectorizer using optimized hyperparameters from gs above\n",
    "tvec_lr = TfidfVectorizer(stop_words=cust_stop_words, max_df=0.4, max_features=1000, min_df=2, ngram_range=(1, 2))"
   ]
  },
  {
   "cell_type": "code",
   "execution_count": 127,
   "metadata": {},
   "outputs": [],
   "source": [
    "# Fit our TfidfVectorizer on the training data and transform training data.\n",
    "X_train_tvec_lr = pd.DataFrame(tvec_lr.fit_transform(X_train).todense(), columns = tvec_lr.get_feature_names()) "
   ]
  },
  {
   "cell_type": "code",
   "execution_count": 128,
   "metadata": {},
   "outputs": [],
   "source": [
    "# Transform our testing data with the already-fit TfidfVectorizer.\n",
    "X_test_tvec_lr = pd.DataFrame(tvec_lr.transform(X_test).todense(), columns = tvec_lr.get_feature_names())"
   ]
  },
  {
   "cell_type": "code",
   "execution_count": 129,
   "metadata": {},
   "outputs": [],
   "source": [
    "lr_fin = LogisticRegression() #instantiating Logistic Regression"
   ]
  },
  {
   "cell_type": "code",
   "execution_count": 130,
   "metadata": {},
   "outputs": [
    {
     "data": {
      "text/plain": [
       "LogisticRegression(C=1.0, class_weight=None, dual=False, fit_intercept=True,\n",
       "                   intercept_scaling=1, l1_ratio=None, max_iter=100,\n",
       "                   multi_class='auto', n_jobs=None, penalty='l2',\n",
       "                   random_state=None, solver='lbfgs', tol=0.0001, verbose=0,\n",
       "                   warm_start=False)"
      ]
     },
     "execution_count": 130,
     "metadata": {},
     "output_type": "execute_result"
    }
   ],
   "source": [
    "lr_fin.fit(X_train_tvec_lr, y_train)  #training the model"
   ]
  },
  {
   "cell_type": "code",
   "execution_count": 131,
   "metadata": {
    "scrolled": true
   },
   "outputs": [
    {
     "data": {
      "text/html": [
       "<div>\n",
       "<style scoped>\n",
       "    .dataframe tbody tr th:only-of-type {\n",
       "        vertical-align: middle;\n",
       "    }\n",
       "\n",
       "    .dataframe tbody tr th {\n",
       "        vertical-align: top;\n",
       "    }\n",
       "\n",
       "    .dataframe thead th {\n",
       "        text-align: right;\n",
       "    }\n",
       "</style>\n",
       "<table border=\"1\" class=\"dataframe\">\n",
       "  <thead>\n",
       "    <tr style=\"text-align: right;\">\n",
       "      <th></th>\n",
       "      <th>variable</th>\n",
       "      <th>coef</th>\n",
       "      <th>abs_coef</th>\n",
       "      <th>times_as_likely_frm_servertales</th>\n",
       "    </tr>\n",
       "  </thead>\n",
       "  <tbody>\n",
       "    <tr>\n",
       "      <th>723</th>\n",
       "      <td>room</td>\n",
       "      <td>-5.369243</td>\n",
       "      <td>5.369243</td>\n",
       "      <td>0.004658</td>\n",
       "    </tr>\n",
       "    <tr>\n",
       "      <th>424</th>\n",
       "      <td>hotel</td>\n",
       "      <td>-4.787399</td>\n",
       "      <td>4.787399</td>\n",
       "      <td>0.008334</td>\n",
       "    </tr>\n",
       "    <tr>\n",
       "      <th>376</th>\n",
       "      <td>guest</td>\n",
       "      <td>-4.160609</td>\n",
       "      <td>4.160609</td>\n",
       "      <td>0.015598</td>\n",
       "    </tr>\n",
       "    <tr>\n",
       "      <th>856</th>\n",
       "      <td>table</td>\n",
       "      <td>4.107502</td>\n",
       "      <td>4.107502</td>\n",
       "      <td>60.794669</td>\n",
       "    </tr>\n",
       "    <tr>\n",
       "      <th>218</th>\n",
       "      <td>desk</td>\n",
       "      <td>-3.872400</td>\n",
       "      <td>3.872400</td>\n",
       "      <td>0.020808</td>\n",
       "    </tr>\n",
       "    <tr>\n",
       "      <th>760</th>\n",
       "      <td>server</td>\n",
       "      <td>3.326763</td>\n",
       "      <td>3.326763</td>\n",
       "      <td>27.848038</td>\n",
       "    </tr>\n",
       "    <tr>\n",
       "      <th>714</th>\n",
       "      <td>restaurant</td>\n",
       "      <td>3.058843</td>\n",
       "      <td>3.058843</td>\n",
       "      <td>21.302903</td>\n",
       "    </tr>\n",
       "    <tr>\n",
       "      <th>883</th>\n",
       "      <td>tip</td>\n",
       "      <td>2.598207</td>\n",
       "      <td>2.598207</td>\n",
       "      <td>13.439622</td>\n",
       "    </tr>\n",
       "    <tr>\n",
       "      <th>612</th>\n",
       "      <td>order</td>\n",
       "      <td>2.278323</td>\n",
       "      <td>2.278323</td>\n",
       "      <td>9.760300</td>\n",
       "    </tr>\n",
       "    <tr>\n",
       "      <th>198</th>\n",
       "      <td>customer</td>\n",
       "      <td>1.902886</td>\n",
       "      <td>1.902886</td>\n",
       "      <td>6.705215</td>\n",
       "    </tr>\n",
       "    <tr>\n",
       "      <th>670</th>\n",
       "      <td>property</td>\n",
       "      <td>-1.891602</td>\n",
       "      <td>1.891602</td>\n",
       "      <td>0.150830</td>\n",
       "    </tr>\n",
       "    <tr>\n",
       "      <th>502</th>\n",
       "      <td>lobby</td>\n",
       "      <td>-1.752606</td>\n",
       "      <td>1.752606</td>\n",
       "      <td>0.173322</td>\n",
       "    </tr>\n",
       "    <tr>\n",
       "      <th>684</th>\n",
       "      <td>rate</td>\n",
       "      <td>-1.721920</td>\n",
       "      <td>1.721920</td>\n",
       "      <td>0.178723</td>\n",
       "    </tr>\n",
       "    <tr>\n",
       "      <th>250</th>\n",
       "      <td>drink</td>\n",
       "      <td>1.706708</td>\n",
       "      <td>1.706708</td>\n",
       "      <td>5.510788</td>\n",
       "    </tr>\n",
       "    <tr>\n",
       "      <th>331</th>\n",
       "      <td>food</td>\n",
       "      <td>1.641608</td>\n",
       "      <td>1.641608</td>\n",
       "      <td>5.163467</td>\n",
       "    </tr>\n",
       "    <tr>\n",
       "      <th>161</th>\n",
       "      <td>company</td>\n",
       "      <td>-1.492573</td>\n",
       "      <td>1.492573</td>\n",
       "      <td>0.224793</td>\n",
       "    </tr>\n",
       "    <tr>\n",
       "      <th>710</th>\n",
       "      <td>reservation</td>\n",
       "      <td>-1.472115</td>\n",
       "      <td>1.472115</td>\n",
       "      <td>0.229440</td>\n",
       "    </tr>\n",
       "    <tr>\n",
       "      <th>97</th>\n",
       "      <td>breakfast</td>\n",
       "      <td>-1.445679</td>\n",
       "      <td>1.445679</td>\n",
       "      <td>0.235586</td>\n",
       "    </tr>\n",
       "    <tr>\n",
       "      <th>469</th>\n",
       "      <td>kitchen</td>\n",
       "      <td>1.394821</td>\n",
       "      <td>1.394821</td>\n",
       "      <td>4.034254</td>\n",
       "    </tr>\n",
       "    <tr>\n",
       "      <th>652</th>\n",
       "      <td>pool</td>\n",
       "      <td>-1.364628</td>\n",
       "      <td>1.364628</td>\n",
       "      <td>0.255476</td>\n",
       "    </tr>\n",
       "  </tbody>\n",
       "</table>\n",
       "</div>"
      ],
      "text/plain": [
       "        variable      coef  abs_coef  times_as_likely_frm_servertales\n",
       "723         room -5.369243  5.369243                         0.004658\n",
       "424        hotel -4.787399  4.787399                         0.008334\n",
       "376        guest -4.160609  4.160609                         0.015598\n",
       "856        table  4.107502  4.107502                        60.794669\n",
       "218         desk -3.872400  3.872400                         0.020808\n",
       "760       server  3.326763  3.326763                        27.848038\n",
       "714   restaurant  3.058843  3.058843                        21.302903\n",
       "883          tip  2.598207  2.598207                        13.439622\n",
       "612        order  2.278323  2.278323                         9.760300\n",
       "198     customer  1.902886  1.902886                         6.705215\n",
       "670     property -1.891602  1.891602                         0.150830\n",
       "502        lobby -1.752606  1.752606                         0.173322\n",
       "684         rate -1.721920  1.721920                         0.178723\n",
       "250        drink  1.706708  1.706708                         5.510788\n",
       "331         food  1.641608  1.641608                         5.163467\n",
       "161      company -1.492573  1.492573                         0.224793\n",
       "710  reservation -1.472115  1.472115                         0.229440\n",
       "97     breakfast -1.445679  1.445679                         0.235586\n",
       "469      kitchen  1.394821  1.394821                         4.034254\n",
       "652         pool -1.364628  1.364628                         0.255476"
      ]
     },
     "execution_count": 131,
     "metadata": {},
     "output_type": "execute_result"
    }
   ],
   "source": [
    "lr_coefs = pd.DataFrame({'variable':tvec_lr.get_feature_names(),    #generating coefficent dictionary for fitted Logistic Regression\n",
    "                            'coef':lr_fin.coef_.T.ravel(),\n",
    "                            'abs_coef':np.abs(lr_fin.coef_.T.ravel()),\n",
    "                            'times_as_likely_frm_servertales':np.exp(lr_fin.coef_.T.ravel())}) #calculating the number of times as likely for post come from TalesFromYourServer\n",
    "lr_coefs.sort_values('abs_coef', inplace=True, ascending=False)\n",
    "\n",
    "lr_coefs.head(20) #this shows the word features ranked in terms of their discriminating power (be it positive or negative, as well as the number of times as likely for the post to fall under class 1 - TalesFromYourServer for the existence of each word feature)"
   ]
  },
  {
   "cell_type": "code",
   "execution_count": 132,
   "metadata": {
    "scrolled": true
   },
   "outputs": [
    {
     "data": {
      "text/html": [
       "<div>\n",
       "<style scoped>\n",
       "    .dataframe tbody tr th:only-of-type {\n",
       "        vertical-align: middle;\n",
       "    }\n",
       "\n",
       "    .dataframe tbody tr th {\n",
       "        vertical-align: top;\n",
       "    }\n",
       "\n",
       "    .dataframe thead th {\n",
       "        text-align: right;\n",
       "    }\n",
       "</style>\n",
       "<table border=\"1\" class=\"dataframe\">\n",
       "  <thead>\n",
       "    <tr style=\"text-align: right;\">\n",
       "      <th></th>\n",
       "      <th>variable</th>\n",
       "      <th>coef</th>\n",
       "      <th>abs_coef</th>\n",
       "      <th>times_as_likely_frm_servertales</th>\n",
       "    </tr>\n",
       "  </thead>\n",
       "  <tbody>\n",
       "    <tr>\n",
       "      <th>131</th>\n",
       "      <td>cheap</td>\n",
       "      <td>0.005685</td>\n",
       "      <td>0.005685</td>\n",
       "      <td>1.005701</td>\n",
       "    </tr>\n",
       "    <tr>\n",
       "      <th>655</th>\n",
       "      <td>position</td>\n",
       "      <td>0.005673</td>\n",
       "      <td>0.005673</td>\n",
       "      <td>1.005689</td>\n",
       "    </tr>\n",
       "    <tr>\n",
       "      <th>378</th>\n",
       "      <td>guy come</td>\n",
       "      <td>-0.005451</td>\n",
       "      <td>0.005451</td>\n",
       "      <td>0.994564</td>\n",
       "    </tr>\n",
       "    <tr>\n",
       "      <th>565</th>\n",
       "      <td>mobile</td>\n",
       "      <td>0.005292</td>\n",
       "      <td>0.005292</td>\n",
       "      <td>1.005306</td>\n",
       "    </tr>\n",
       "    <tr>\n",
       "      <th>534</th>\n",
       "      <td>make sure</td>\n",
       "      <td>0.005175</td>\n",
       "      <td>0.005175</td>\n",
       "      <td>1.005189</td>\n",
       "    </tr>\n",
       "    <tr>\n",
       "      <th>410</th>\n",
       "      <td>hired</td>\n",
       "      <td>-0.005078</td>\n",
       "      <td>0.005078</td>\n",
       "      <td>0.994935</td>\n",
       "    </tr>\n",
       "    <tr>\n",
       "      <th>817</th>\n",
       "      <td>stand</td>\n",
       "      <td>-0.004646</td>\n",
       "      <td>0.004646</td>\n",
       "      <td>0.995365</td>\n",
       "    </tr>\n",
       "    <tr>\n",
       "      <th>550</th>\n",
       "      <td>mentioned</td>\n",
       "      <td>0.004412</td>\n",
       "      <td>0.004412</td>\n",
       "      <td>1.004422</td>\n",
       "    </tr>\n",
       "    <tr>\n",
       "      <th>954</th>\n",
       "      <td>watching</td>\n",
       "      <td>0.004329</td>\n",
       "      <td>0.004329</td>\n",
       "      <td>1.004339</td>\n",
       "    </tr>\n",
       "    <tr>\n",
       "      <th>457</th>\n",
       "      <td>just don</td>\n",
       "      <td>-0.003545</td>\n",
       "      <td>0.003545</td>\n",
       "      <td>0.996461</td>\n",
       "    </tr>\n",
       "    <tr>\n",
       "      <th>770</th>\n",
       "      <td>shop</td>\n",
       "      <td>-0.003500</td>\n",
       "      <td>0.003500</td>\n",
       "      <td>0.996506</td>\n",
       "    </tr>\n",
       "    <tr>\n",
       "      <th>689</th>\n",
       "      <td>real</td>\n",
       "      <td>0.003473</td>\n",
       "      <td>0.003473</td>\n",
       "      <td>1.003479</td>\n",
       "    </tr>\n",
       "    <tr>\n",
       "      <th>946</th>\n",
       "      <td>walking</td>\n",
       "      <td>-0.003292</td>\n",
       "      <td>0.003292</td>\n",
       "      <td>0.996714</td>\n",
       "    </tr>\n",
       "    <tr>\n",
       "      <th>666</th>\n",
       "      <td>problem</td>\n",
       "      <td>0.003121</td>\n",
       "      <td>0.003121</td>\n",
       "      <td>1.003125</td>\n",
       "    </tr>\n",
       "    <tr>\n",
       "      <th>186</th>\n",
       "      <td>cover</td>\n",
       "      <td>0.002726</td>\n",
       "      <td>0.002726</td>\n",
       "      <td>1.002730</td>\n",
       "    </tr>\n",
       "    <tr>\n",
       "      <th>691</th>\n",
       "      <td>realized</td>\n",
       "      <td>-0.001439</td>\n",
       "      <td>0.001439</td>\n",
       "      <td>0.998562</td>\n",
       "    </tr>\n",
       "    <tr>\n",
       "      <th>335</th>\n",
       "      <td>forward</td>\n",
       "      <td>0.001368</td>\n",
       "      <td>0.001368</td>\n",
       "      <td>1.001369</td>\n",
       "    </tr>\n",
       "    <tr>\n",
       "      <th>227</th>\n",
       "      <td>didnt</td>\n",
       "      <td>0.000837</td>\n",
       "      <td>0.000837</td>\n",
       "      <td>1.000838</td>\n",
       "    </tr>\n",
       "    <tr>\n",
       "      <th>776</th>\n",
       "      <td>shut</td>\n",
       "      <td>-0.000672</td>\n",
       "      <td>0.000672</td>\n",
       "      <td>0.999328</td>\n",
       "    </tr>\n",
       "    <tr>\n",
       "      <th>690</th>\n",
       "      <td>realize</td>\n",
       "      <td>0.000046</td>\n",
       "      <td>0.000046</td>\n",
       "      <td>1.000046</td>\n",
       "    </tr>\n",
       "  </tbody>\n",
       "</table>\n",
       "</div>"
      ],
      "text/plain": [
       "      variable      coef  abs_coef  times_as_likely_frm_servertales\n",
       "131      cheap  0.005685  0.005685                         1.005701\n",
       "655   position  0.005673  0.005673                         1.005689\n",
       "378   guy come -0.005451  0.005451                         0.994564\n",
       "565     mobile  0.005292  0.005292                         1.005306\n",
       "534  make sure  0.005175  0.005175                         1.005189\n",
       "410      hired -0.005078  0.005078                         0.994935\n",
       "817      stand -0.004646  0.004646                         0.995365\n",
       "550  mentioned  0.004412  0.004412                         1.004422\n",
       "954   watching  0.004329  0.004329                         1.004339\n",
       "457   just don -0.003545  0.003545                         0.996461\n",
       "770       shop -0.003500  0.003500                         0.996506\n",
       "689       real  0.003473  0.003473                         1.003479\n",
       "946    walking -0.003292  0.003292                         0.996714\n",
       "666    problem  0.003121  0.003121                         1.003125\n",
       "186      cover  0.002726  0.002726                         1.002730\n",
       "691   realized -0.001439  0.001439                         0.998562\n",
       "335    forward  0.001368  0.001368                         1.001369\n",
       "227      didnt  0.000837  0.000837                         1.000838\n",
       "776       shut -0.000672  0.000672                         0.999328\n",
       "690    realize  0.000046  0.000046                         1.000046"
      ]
     },
     "execution_count": 132,
     "metadata": {},
     "output_type": "execute_result"
    }
   ],
   "source": [
    "lr_coefs.tail(20) #looking at the bottom 20 coefficients and their associated word features."
   ]
  },
  {
   "cell_type": "code",
   "execution_count": 133,
   "metadata": {},
   "outputs": [],
   "source": [
    "lr_coefs_sort_by_coef = lr_coefs.sort_values('coef', ascending=False) #sorting lr_coefs in descending order based on coefs"
   ]
  },
  {
   "cell_type": "code",
   "execution_count": 134,
   "metadata": {},
   "outputs": [],
   "source": [
    "lr_coefs_top_10 = lr_coefs_sort_by_coef.head(10) #segmenting out the top 10 coefs (top 10 word features positively correlated to log of odds of class 1)"
   ]
  },
  {
   "cell_type": "code",
   "execution_count": 135,
   "metadata": {},
   "outputs": [],
   "source": [
    "lr_coefs_btm_10 = lr_coefs_sort_by_coef.tail(10) #segmenting out the bottom 10 coefs (top 10 word features negatively correlated to log of odds of class 1)"
   ]
  },
  {
   "cell_type": "code",
   "execution_count": 136,
   "metadata": {},
   "outputs": [],
   "source": [
    "lr_coefs_top_btm_10 = pd.concat([lr_coefs_top_10,lr_coefs_btm_10], axis=0) #combining both top and bottom 10 coefs"
   ]
  },
  {
   "cell_type": "code",
   "execution_count": 137,
   "metadata": {
    "scrolled": false
   },
   "outputs": [
    {
     "data": {
      "image/png": "[encoded data removed]",
      "text/plain": [
       "<Figure size 1440x720 with 1 Axes>"
      ]
     },
     "metadata": {
      "image/png": {
       "height": 639,
       "width": 1389
      },
      "needs_background": "light"
     },
     "output_type": "display_data"
    }
   ],
   "source": [
    "#plotting top 10 and bottom 10 coefs sorted in descending order to visualize the correlation of word features with the target class 1 - TalesFromYourServer\n",
    "ax = lr_coefs_top_btm_10.sort_values('coef', ascending=False)[['variable','coef']].plot.barh('variable',figsize=(20,10))\n",
    "ax.set_title(\"Coefficients vs Variables\", fontsize=30)\n",
    "ax.set_xlabel(\"Coefficients\", fontsize=30)\n",
    "ax.set_ylabel(\"Word Features\", fontsize=30)\n",
    "plt.xticks(size=15)\n",
    "plt.yticks(size=15);"
   ]
  },
  {
   "cell_type": "code",
   "execution_count": 138,
   "metadata": {},
   "outputs": [
    {
     "data": {
      "text/plain": [
       "60.94671756962223"
      ]
     },
     "execution_count": 138,
     "metadata": {},
     "output_type": "execute_result"
    }
   ],
   "source": [
    "np.exp(4.11) #calculating how many more times as likely will the post come from TalesFromYourServer with each appearance of the word, \"table\" in the post."
   ]
  },
  {
   "cell_type": "code",
   "execution_count": 139,
   "metadata": {},
   "outputs": [
    {
     "data": {
      "text/plain": [
       "0.004654131310283272"
      ]
     },
     "execution_count": 139,
     "metadata": {},
     "output_type": "execute_result"
    }
   ],
   "source": [
    "np.exp(-5.37) #calculating how many more times as likely will the post come from TalesFromYourServer with each appearance of the word, \"room\" in the post."
   ]
  },
  {
   "cell_type": "markdown",
   "metadata": {},
   "source": [
    "- The model with Logistic Regression on the other hand, has a mixture of both positive and negative coefficients for its \"important\" word features and this means that it has the potential to yield balanced predictions (can predict a post to be from either ```TalesFromYourServer``` or ```TalesFromTheFrontDesk```) and is not skewed to either subreddit, unlike the model with Multinomial Naive Bayes.\n",
    "\n",
    "\n",
    "- From the above dataframe of Logistic Regression coefficients, 4.11 is the coefficient for the word \"table\" that is extracted from the ```lr_coefs.head(20)```  shown above. With each appearance of the word, \"table\", in a given post, that post is 61 times as likely to come from the ```TalesFromYourServer``` subreddit. \n",
    "\n",
    "\n",
    "- However, with each appearance of another word, \"room\", in a given post, that post is 0.005 times as likely to come from the ```TalesFromYourServer```, meaning that the post is alot more likely to come from ```TalesFromTheFrontDesk```, which makes sense! Similarly, the -5.37 is the coefficient for the word, \"room\", extracted from the ```lr_coefs.head(20)```. This shows that the Logistic Regression is working just as we expect in classifying posts from the 2 above-mentioned subreddits!\n",
    "\n",
    "\n",
    "- Given the balanced interpretability of the Logistic Regression model, this will be the model of choice to address the problem of classifying given posts to cut down time required to pre-filter posts by each of the agencies and organizations of interest as mentioned in the foremost section of this notebook!"
   ]
  },
  {
   "cell_type": "markdown",
   "metadata": {},
   "source": [
    "# Model Evaluation and Limitations\n",
    "---\n",
    "[Click here to go back to Contents](#Contents)"
   ]
  },
  {
   "cell_type": "markdown",
   "metadata": {},
   "source": [
    "- For both Logistic Regression and Multinomial Naive Bayes models, the estimators' hyperparameters were not tuned together with those of CountVectorizer and TfidfVectorizer as it was time-consuming. It would be interesting to see how the scores will improve or decrease if the estimators' hyperparameters are tuned simultaneously. An alternative would be to use ```RandomizedSearchCV``` instead to circumvent limitations in terms of computing power and time constraints, so that both estimator and vectorizers can be tuned simultaneously.\n",
    "\n",
    "\n",
    "- There were simplifying assumptions adopted in both models - for Logistic Regression, it was assumed that each of the word features in the X corpus were linearly related to the log of odds and that the word features (or predictors) were independent of one another, and for Multinomial Naive Bayes, independence among word predictors was also assumed. It can be unrealistic to assume independence between words given that in reality, words used in a sentence are to a certain extent related to one another depending on their relative distances to one another in a sentence.\n",
    "\n",
    "\n",
    "- Lack of full understanding behind how Reddit works resulted in the removal of empty posts from consideration. This can potentially be problematic as users can encapsulate the content of their posts within the \"Title\" of their posts, leaving the 'selftext' section of the post empty. These posts would then have been mistaken for null posts that are not useful in predicting the subreddit category the posts belong under and hence removed, unknowingly. Fortunately for the 2 subreddits chosen, not a lot of those posts have been removed relative to the total number of unique posts scraped, as only less than 10% (inclusive of duplicated posts, calculated earlier above) of the data were dropped. \n",
    "\n",
    "\n",
    "- Given that both models used performed almost as well, a third classifier such as K-Nearest Neighbors classifier could be trained on the model and tested to determine if there is any difference in accuracy (and in other classification metrics) from the Logistic Regression and Naive Bayes models.\n",
    "\n",
    "\n",
    "- There were only 900+ and 800+ unique posts scraped from the ```TalesFromYourServer``` and ```TalesFromTheFrontDesk``` respectively. As with all data science problems, we can consider gathering more data, beyond 1000 posts per subreddit to examine how the accuracy scores change (whether further improve or decrease). \n"
   ]
  },
  {
   "cell_type": "markdown",
   "metadata": {},
   "source": [
    "# Conclusion and Business Recommendations\n",
    "---\n",
    "[Click here to go back to Contents](#Contents)"
   ]
  },
  {
   "cell_type": "markdown",
   "metadata": {},
   "source": [
    "- The model used was able to predict with 96% accuracy which posts come from ```TalesFromYourServer``` and which come from ```TalesFromTheFrontDesk```. This is hence a recommended solution for trade unions and agencies like NTUC and recruitment firms in the hospitality and food and beverage industries to pre-filter online staff posts, so that they can cut straight to addressing those posts like addressing server/frontdesk-specific staff concerns/dissatisfaction that will in turn maximize service standards, and eventually boost customer experience, business value, and competitiveness.\n",
    "\n",
    "\n",
    "- A caveat however, is that the model was built on Reddit posts. The Reddit community is primarily non-Singaporean and thus [cultural differences](https://www.singaporeexpats.com/resources-in-singapore/articles/84/etiquette-differences-between-singapore-and-america.htm) may render such a model less relevant in Singapore. This proposal however presents a good conceptual model to begin with - localized data could be collected from local variations of Reddit such as [Hardware Zone](https://forums.hardwarezone.com.sg) to gather more local server and frontdesk staff opinion at work to train the model accordingly for generalizability. A point to note is that 'singlish' terms may surface in EDA of such local platforms, which may throw off the model's predictions.\n",
    "\n",
    "\n",
    "- This model could also be tested on other similar but distinct sub-sectors of the service industry too to expedite parsing of online posts with the eventual aim of boosting staff morale, which will in turn translate into enhanced customer experiences! "
   ]
  },
  {
   "cell_type": "markdown",
   "metadata": {},
   "source": [
    "# Sources\n",
    "---\n",
    "[Click here to go back to Contents](#Contents)\n",
    "- https://www.reddit.com/\n",
    "- https://www.datacamp.com/community/tutorials/wordcloud-python\n",
    "- https://www.reddit.com/r/TalesFromYourServer\n",
    "- https://www.reddit.com/r/TalesFromTheFrontDesk\n",
    "- https://www.ntuc.org.sg/wps/portal/up2/home/industrialrelations/unionsandu\n",
    "- https://www.singaporeexpats.com/resources-in-singapore/articles/84/etiquette-differences-between-singapore-and-america.htm\n",
    "- https://forums.hardwarezone.com.sg"
   ]
  }
 ],
 "metadata": {
  "kernelspec": {
   "display_name": "Python 3",
   "language": "python",
   "name": "python3"
  },
  "language_info": {
   "codemirror_mode": {
    "name": "ipython",
    "version": 3
   },
   "file_extension": ".py",
   "mimetype": "text/x-python",
   "name": "python",
   "nbconvert_exporter": "python",
   "pygments_lexer": "ipython3",
   "version": "3.7.6"
  }
 },
 "nbformat": 4,
 "nbformat_minor": 4
}
